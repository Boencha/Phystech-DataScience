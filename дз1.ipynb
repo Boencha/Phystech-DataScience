{
  "cells": [
    {
      "cell_type": "markdown",
      "metadata": {
        "id": "MPv6le8cCbNX"
      },
      "source": [
        "# <a href=\"https://mipt-stats.gitlab.io/courses/ad_mipt.html\">Phystech@DataScience</a>\n",
        "## Задание 1\n",
        "\n",
        "**Правила, <font color=\"red\">прочитайте внимательно</font>:**\n",
        "\n",
        "* Выполненную работу нужно отправить телеграм-боту `@miptstats_pds_bot`. Для начала работы с ботом каждый раз отправляйте `/start`. **Работы, присланные иным способом, не принимаются.**\n",
        "* Дедлайн см. в боте. После дедлайна работы не принимаются кроме случаев наличия уважительной причины.\n",
        "* Прислать нужно ноутбук в формате `ipynb`.\n",
        "* Выполнять задание необходимо полностью самостоятельно. **При обнаружении списывания все участники списывания будут сдавать устный зачет.**\n",
        "* Решения, размещенные на каких-либо интернет-ресурсах, не принимаются. Кроме того, публикация решения в открытом доступе может быть приравнена к предоставлении возможности списать.\n",
        "* Для выполнения задания используйте этот ноутбук в качестве основы, ничего не удаляя из него. Можно добавлять необходимое количество ячеек.\n",
        "* Комментарии к решению пишите в markdown-ячейках.\n",
        "* Выполнение задания (ход решения, выводы и пр.) должно быть осуществлено на русском языке.\n",
        "* Если код будет не понятен проверяющему, оценка может быть снижена.\n",
        "* Никакой код из данного задания при проверке запускаться не будет. *Если код студента не выполнен, недописан и т.д., то он не оценивается.*\n",
        "\n",
        "\n",
        "-----"
      ]
    },
    {
      "cell_type": "code",
      "execution_count": null,
      "metadata": {
        "id": "7xndYoKvCbNb"
      },
      "outputs": [],
      "source": [
        "import numpy as np\n",
        "import matplotlib.pyplot as plt"
      ]
    },
    {
      "cell_type": "markdown",
      "metadata": {
        "id": "Qx8E6X40CbNd"
      },
      "source": [
        "### Задача 1  \n",
        "Создайте матрицу 10x10 по правилу:  \n",
        "- если сумма индексов элемента четна - присваиваем элементу значение 0\n",
        "- если сумма индексов элемента нечетна - присваиваем элементу значение 1\n",
        "\n",
        "Исаользуйте numpy. Визуализируйте полученную матрицу с помощью `plt.imshow()`."
      ]
    },
    {
      "cell_type": "code",
      "execution_count": 2,
      "metadata": {
        "colab": {
          "base_uri": "https://localhost:8080/",
          "height": 265
        },
        "id": "effNJLK8CbNd",
        "outputId": "397cd2b5-b516-479e-bbc7-571a7261fd75"
      },
      "outputs": [
        {
          "data": {
            "image/png": "[encoded data removed]",
            "text/plain": [
              "<Figure size 432x288 with 1 Axes>"
            ]
          },
          "metadata": {
            "needs_background": "light"
          },
          "output_type": "display_data"
        }
      ],
      "source": [
        "\n",
        "import numpy as np\n",
        "import matplotlib.pyplot as plt\n",
        "y = np.zeros((10, 10))\n",
        "for i in range(10):\n",
        "    for j in range(10):\n",
        "        if (i + j) % 2 != 0:\n",
        "            y[i][j] = 1\n",
        "plt.imshow(y)\n",
        "plt.show()\n",
        "\n"
      ]
    },
    {
      "cell_type": "markdown",
      "metadata": {
        "id": "PuOEEqZaCbNe"
      },
      "source": [
        "### Задача 2\n",
        "1) Создайте матрицу 10х10, каждый элемент которой равен сумме индексов этого элемента.  Используйте numpy.  Визуализируйте с помощью `plt.imshow()`."
      ]
    },
    {
      "cell_type": "code",
      "execution_count": 3,
      "metadata": {
        "colab": {
          "base_uri": "https://localhost:8080/",
          "height": 265
        },
        "id": "fF5CQt-bCbNe",
        "outputId": "9f2a0b68-c6d2-4e1f-e476-e3afdffb93f7"
      },
      "outputs": [
        {
          "data": {
            "image/png": "[encoded data removed]",
            "text/plain": [
              "<Figure size 432x288 with 1 Axes>"
            ]
          },
          "metadata": {
            "needs_background": "light"
          },
          "output_type": "display_data"
        }
      ],
      "source": [
        "import numpy as np\n",
        "import matplotlib.pyplot as plt\n",
        "y = np.zeros((10, 10))\n",
        "for i in range(10):\n",
        "    for j in range(10):\n",
        "        y[i][j] = i +j\n",
        "plt.imshow(y)\n",
        "plt.show()\n",
        "\n"
      ]
    },
    {
      "cell_type": "markdown",
      "metadata": {
        "id": "L_vdYmDUCbNe"
      },
      "source": [
        "2. Повторите свое решение <font color='red'> без использования циклов <font color='black'> (list comrehension использовать не запрещено)."
      ]
    },
    {
      "cell_type": "code",
      "execution_count": 4,
      "metadata": {
        "colab": {
          "base_uri": "https://localhost:8080/",
          "height": 265
        },
        "id": "z74aVFaKCbNf",
        "outputId": "3237ae9d-0813-437c-d723-2ad28ead8a8f"
      },
      "outputs": [
        {
          "data": {
            "image/png": "[encoded data removed]",
            "text/plain": [
              "<Figure size 432x288 with 1 Axes>"
            ]
          },
          "metadata": {
            "needs_background": "light"
          },
          "output_type": "display_data"
        }
      ],
      "source": [
        "import numpy as np\n",
        "import matplotlib.pyplot as plt\n",
        "a = np.linspace(0, 9, 10).reshape(10)\n",
        "b = np.zeros((10, 10))\n",
        "c = a + b\n",
        "a1 = np.linspace(0, 9, 10).reshape(10, 1)\n",
        "c1 = a1 + b\n",
        "m = c + c1\n",
        "plt.imshow(m)\n",
        "plt.show()\n",
        "\n"
      ]
    },
    {
      "cell_type": "markdown",
      "metadata": {
        "id": "DZHJrbVMCbNf"
      },
      "source": [
        "### Задача 3\n",
        "Изобразите график параметрически заданной функции. Переменные необходимо задавать с помощью Numpy.\n",
        "\n",
        "$$ x=\\alpha\\times\\left(\\cos t+\\frac{cos(\\beta t)}{\\beta}\\right)$$\n",
        "\n",
        "$$y=\\alpha\\times\\left(\\sin t−\\frac{sin(\\beta t)}{\\beta}\\right)$$\n",
        "\n",
        "$$t∈[0;20π]$$ \n",
        "\n",
        "1. Реализуйте функции $x(t, \\alpha, \\beta)$ и $y(t, \\alpha, \\beta)$"
      ]
    },
    {
      "cell_type": "code",
      "execution_count": null,
      "metadata": {
        "id": "0reRJZLOCbNf"
      },
      "outputs": [],
      "source": [
        "def x(t, a, b):\n",
        "    return a * (np.cos(t) + np.cos(b * t) / b)\n",
        "def y(t, a, b):\n",
        "    return a * (np.sin(t) - np.sin(b * t) / b)"
      ]
    },
    {
      "cell_type": "markdown",
      "metadata": {
        "id": "SN_LlYRRCbNh"
      },
      "source": [
        "### Задача 4\n",
        "\n",
        "Выполните все шаги, описанные ниже и визуализируйте полученный результат. Результатом является квадратная матрица."
      ]
    },
    {
      "cell_type": "code",
      "execution_count": 5,
      "metadata": {
        "colab": {
          "base_uri": "https://localhost:8080/",
          "height": 265
        },
        "id": "c8UCSOMGCbNh",
        "outputId": "c91557c6-b636-4667-b2f1-d029e311a2c4"
      },
      "outputs": [
        {
          "data": {
            "image/png": "[encoded data removed]",
            "text/plain": [
              "<Figure size 432x288 with 1 Axes>"
            ]
          },
          "metadata": {
            "needs_background": "light"
          },
          "output_type": "display_data"
        }
      ],
      "source": [
        "# Создать матрицу а1 размера 3 x 3 из нулей\n",
        "\n",
        "# Приравнять единице значения матрицы a1 по координатам (1, 1)\n",
        "\n",
        "# Скопировать матрицу a1 в матрицу a2\n",
        "\n",
        "# Конкатенировать матрицы a1 и a2 по оси 1 и записать результат в матрицу a3\n",
        "\n",
        "# Создать матрицу a4 размера 6 из нулей\n",
        "\n",
        "# Запонить всё единицами кроме нулевой и последней ячейки в матрице a4\n",
        "\n",
        "# Создать матрицу a5 размера 6 из нулей\n",
        "\n",
        "# Заполнить ячейки с координатами 2 и 3 единицами в матрице а5\n",
        "\n",
        "# Объединить матрицы а4 и а5 по нулевой оси и записать результат в матрицу а6\n",
        "\n",
        "# Создать матрицу а7 размера 6 из нулей\n",
        "\n",
        "# Конкатенировать матрицы а6 и а7 по нулевой оси и записать результат в матрицу а8\n",
        "\n",
        "# Конкатенировать матрицы а3 и а8 по нулевой оси и записать результат в матрицу а9\n",
        "\n",
        "# Визуализировать матрицу а9 с помощью plt.imshow()\n",
        "import numpy as np\n",
        "import matplotlib.pyplot as plt\n",
        "a1 = np.zeros((3, 3))\n",
        "a1[1, 1] = 1\n",
        "a2 = a1.copy()\n",
        "a3 = np.concatenate((a1, a2), axis=1)\n",
        "a4 = np.zeros(6).reshape(1, 6)\n",
        "for i in range(6):\n",
        "    if i == 0 or i == 5:\n",
        "        a4[0][i] = 0\n",
        "    else:\n",
        "        a4[0][i] = 1\n",
        "a5 = np.zeros((6)).reshape(1, 6)\n",
        "a5[0][2], a5[0][3] = 1, 1\n",
        "a6 = np.concatenate((a4, a5), axis=0)\n",
        "a7 = np.zeros(6).reshape(1, 6)\n",
        "a8 = np.concatenate((a6, a7), axis=0)\n",
        "a9 = np.concatenate((a3, a8), axis=0)\n",
        "plt.imshow(a9)\n",
        "plt.show()\n",
        "\n",
        "\n"
      ]
    },
    {
      "cell_type": "markdown",
      "metadata": {
        "id": "uwaRv6kZCbNi"
      },
      "source": [
        "### Задача 5\n",
        "Напишите функцию, реализующую матричное умножение. При вычислении разрешается создавать\n",
        "объекты размерности три. \n",
        "\n",
        "Запрещается пользоваться функциями, реализующими матричное\n",
        "умножение ( numpy.dot , операция @ , операция умножения в классе numpy.matrix ). Разрешено\n",
        "пользоваться только простыми векторно-арифметическими операциями над numpy.array , а также\n",
        "преобразованиями осей.\n",
        "\n",
        " *Комментарий*: При рациональном подходе ваше решение займет 1 строчку"
      ]
    },
    {
      "cell_type": "code",
      "execution_count": 13,
      "metadata": {
        "id": "d_48rbSdCbNj"
      },
      "outputs": [],
      "source": [
        "\n",
        "def matrix_multiplication(A, B):\n",
        "    shapes = [A.shape[0], A.shape[1], B.shape[0], B.shape[1]]\n",
        "    A1 = A.reshape(shapes[0], shapes[1], 1)\n",
        "    B1 = B.reshape(1, shapes[2], shapes[3])\n",
        "    prod = A1 * B1\n",
        "    return prod.sum(axis=1)\n"
      ]
    },
    {
      "cell_type": "markdown",
      "metadata": {
        "id": "yqteJ06GCbNj"
      },
      "source": [
        "Проверьте правильность реализации на случайных матрицах. Должен получится ноль.\n"
      ]
    },
    {
      "cell_type": "code",
      "execution_count": 12,
      "metadata": {
        "colab": {
          "base_uri": "https://localhost:8080/"
        },
        "id": "zlowJmxTCbNj",
        "outputId": "05f2677e-5648-4df8-f954-204cff75866e"
      },
      "outputs": [
        {
          "name": "stdout",
          "output_type": "stream",
          "text": [
            "7.105427357601002e-14\n"
          ]
        }
      ],
      "source": [
        "#A = np.random.rand((10, 20))\n",
        "#B = np.random.rand((20, 30))\n",
        "#np.abs(matrix_multiplication(A, B) - A @ B).sum()\n",
        "import numpy as np\n",
        "A = np.random.rand(10, 20)\n",
        "B = np.random.rand(20, 30)\n",
        "def matrix_multiplication(A, B):\n",
        "    shapes = [A.shape[0], A.shape[1], B.shape[0], B.shape[1]]\n",
        "    A1 = A.reshape(shapes[0], shapes[1], 1)\n",
        "    B1 = B.reshape(1, shapes[2], shapes[3])\n",
        "    prod = A1 * B1\n",
        "    return prod.sum(axis=1)\n",
        "print(np.abs(matrix_multiplication(A, B) - A @ B).sum())\n"
      ]
    }
  ],
  "metadata": {
    "colab": {
      "provenance": []
    },
    "kernelspec": {
      "display_name": "sber",
      "language": "python",
      "name": "python3"
    },
    "language_info": {
      "codemirror_mode": {
        "name": "ipython",
        "version": 3
      },
      "file_extension": ".py",
      "mimetype": "text/x-python",
      "name": "python",
      "nbconvert_exporter": "python",
      "pygments_lexer": "ipython3",
      "version": "3.10.4"
    },
    "orig_nbformat": 4,
    "vscode": {
      "interpreter": {
        "hash": "415525cc3f40ad8355b7c2a7d3b034c5d7bb85ff256d91eaa0aa6b53328ab0d3"
      }
    }
  },
  "nbformat": 4,
  "nbformat_minor": 0
}
