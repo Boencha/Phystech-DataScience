{
  "cells": [
    {
      "cell_type": "markdown",
      "metadata": {
        "id": "AGLhSK1n-Q81"
      },
      "source": [
        "# <a href=\"https://mipt-stats.gitlab.io/courses/ad_mipt.html\">Phystech@DataScience</a>\n",
        "## Домашнее задание 4\n",
        "\n",
        "**Правила, <font color=\"red\">прочитайте внимательно</font>:**\n",
        "\n",
        "* Выполненную работу нужно отправить телеграм-боту `@miptstats_pds_bot`. Для начала работы с ботом каждый раз отправляйте `/start`. **Работы, присланные иным способом, не принимаются.**\n",
        "* Дедлайн см. в боте. После дедлайна работы не принимаются кроме случаев наличия уважительной причины.\n",
        "* Прислать нужно ноутбук в формате `ipynb`.\n",
        "* Выполнять задание необходимо полностью самостоятельно. **При обнаружении списывания все участники списывания будут сдавать устный зачет.**\n",
        "* Решения, размещенные на каких-либо интернет-ресурсах, не принимаются. Кроме того, публикация решения в открытом доступе может быть приравнена к предоставлении возможности списать.\n",
        "* Для выполнения задания используйте этот ноутбук в качестве основы, ничего не удаляя из него. Можно добавлять необходимое количество ячеек.\n",
        "* Комментарии к решению пишите в markdown-ячейках.\n",
        "* Выполнение задания (ход решения, выводы и пр.) должно быть осуществлено на русском языке.\n",
        "* Если код будет не понятен проверяющему, оценка может быть снижена.\n",
        "* Никакой код из данного задания при проверке запускаться не будет. *Если код студента не выполнен, недописан и т.д., то он не оценивается.*\n",
        "* **Код из рассказанных на занятиях ноутбуков можно использовать без ограничений.**\n",
        "\n",
        "**Правила оформления теоретических задач:**\n",
        "\n",
        "* Решения необходимо прислать одним из следующих способов:\n",
        "  * фотографией в правильной ориентации, где все четко видно, а почерк разборчив,\n",
        "    * отправив ее как файл боту вместе с ноутбуком *или*\n",
        "    * вставив ее в ноутбук посредством `Edit -> Insert Image` (<font color=\"red\">фото, вставленные ссылкой, не принимаются</font>);\n",
        "  * в виде $LaTeX$ в markdown-ячейках.\n",
        "* Решения не проверяются, если какое-то требование не выполнено. Особенно внимательно все проверьте в случае выбора второго пункта (вставки фото в ноутбук). <font color=\"red\"><b>Неправильно вставленные фотографии могут не передаться при отправке.</b></font> Для проверки попробуйте переместить `ipynb` в другую папку и открыть его там.\n",
        "* В решениях поясняйте, чем вы пользуетесь, хотя бы кратко. Например, если пользуетесь независимостью, то достаточно подписи вида \"*X и Y незав.*\"\n",
        "* Решение, в котором есть только ответ, и отсутствуют вычисления, оценивается в 0 баллов.\n",
        "\n",
        "\n",
        "\n",
        "\n",
        "-----"
      ]
    },
    {
      "cell_type": "code",
      "execution_count": null,
      "metadata": {
        "id": "Z22Ijtk1-Q83"
      },
      "outputs": [],
      "source": [
        "import numpy as np\n",
        "import scipy.stats as sps\n",
        "import matplotlib.pyplot as plt\n",
        "import pandas as pd\n",
        "import seaborn as sns\n",
        "sns.set(font_scale=1.3, palette='Set2')\n",
        "\n",
        "red = '#FF3300'\n",
        "blue = '#0099CC'\n",
        "green = '#00CC66'\n",
        "\n",
        "%matplotlib inline"
      ]
    },
    {
      "cell_type": "markdown",
      "metadata": {
        "id": "JZ_gsKh_-Q84"
      },
      "source": [
        "\n",
        "\n",
        "\n",
        "## Задача 1 на гистограммы и  выборочные статистики.\n",
        "\n",
        "**1.** Загрузите с помощью `pandas` из файла `airquality.csv` данные о качестве воздуха в Нью-Йорке с мая по сентябрь 1973 года по дням. Данные содержат измерения нескольких величин, описания которых можно прочитать [по ссылке](https://www.rdocumentation.org/packages/datasets/versions/3.5.1/topics/airquality)."
      ]
    },
    {
      "cell_type": "code",
      "execution_count": null,
      "metadata": {
        "colab": {
          "base_uri": "https://localhost:8080/",
          "height": 204
        },
        "id": "gYfgPjVa-Q84",
        "outputId": "276b7f1f-158f-4c08-9b94-ebe9602ff87b"
      },
      "outputs": [
        {
          "data": {
            "text/html": [
              "\n",
              "  <div id=\"df-17e0703b-ddf0-47fe-b371-8ade952b96a5\">\n",
              "    <div class=\"colab-df-container\">\n",
              "      <div>\n",
              "<style scoped>\n",
              "    .dataframe tbody tr th:only-of-type {\n",
              "        vertical-align: middle;\n",
              "    }\n",
              "\n",
              "    .dataframe tbody tr th {\n",
              "        vertical-align: top;\n",
              "    }\n",
              "\n",
              "    .dataframe thead th {\n",
              "        text-align: right;\n",
              "    }\n",
              "</style>\n",
              "<table border=\"1\" class=\"dataframe\">\n",
              "  <thead>\n",
              "    <tr style=\"text-align: right;\">\n",
              "      <th></th>\n",
              "      <th>Ozone</th>\n",
              "      <th>Solar.R</th>\n",
              "      <th>Wind</th>\n",
              "      <th>Temp</th>\n",
              "      <th>Month</th>\n",
              "      <th>Day</th>\n",
              "    </tr>\n",
              "  </thead>\n",
              "  <tbody>\n",
              "    <tr>\n",
              "      <th>0</th>\n",
              "      <td>41.0</td>\n",
              "      <td>190.0</td>\n",
              "      <td>7.4</td>\n",
              "      <td>67</td>\n",
              "      <td>5</td>\n",
              "      <td>1</td>\n",
              "    </tr>\n",
              "    <tr>\n",
              "      <th>1</th>\n",
              "      <td>36.0</td>\n",
              "      <td>118.0</td>\n",
              "      <td>8.0</td>\n",
              "      <td>72</td>\n",
              "      <td>5</td>\n",
              "      <td>2</td>\n",
              "    </tr>\n",
              "    <tr>\n",
              "      <th>2</th>\n",
              "      <td>12.0</td>\n",
              "      <td>149.0</td>\n",
              "      <td>12.6</td>\n",
              "      <td>74</td>\n",
              "      <td>5</td>\n",
              "      <td>3</td>\n",
              "    </tr>\n",
              "    <tr>\n",
              "      <th>3</th>\n",
              "      <td>18.0</td>\n",
              "      <td>313.0</td>\n",
              "      <td>11.5</td>\n",
              "      <td>62</td>\n",
              "      <td>5</td>\n",
              "      <td>4</td>\n",
              "    </tr>\n",
              "    <tr>\n",
              "      <th>4</th>\n",
              "      <td>NaN</td>\n",
              "      <td>NaN</td>\n",
              "      <td>14.3</td>\n",
              "      <td>56</td>\n",
              "      <td>5</td>\n",
              "      <td>5</td>\n",
              "    </tr>\n",
              "  </tbody>\n",
              "</table>\n",
              "</div>\n",
              "      <button class=\"colab-df-convert\" onclick=\"convertToInteractive('df-17e0703b-ddf0-47fe-b371-8ade952b96a5')\"\n",
              "              title=\"Convert this dataframe to an interactive table.\"\n",
              "              style=\"display:none;\">\n",
              "        \n",
              "  <svg xmlns=\"http://www.w3.org/2000/svg\" height=\"24px\"viewBox=\"0 0 24 24\"\n",
              "       width=\"24px\">\n",
              "    <path d=\"M0 0h24v24H0V0z\" fill=\"none\"/>\n",
              "    <path d=\"M18.56 5.44l.94 2.06.94-2.06 2.06-.94-2.06-.94-.94-2.06-.94 2.06-2.06.94zm-11 1L8.5 8.5l.94-2.06 2.06-.94-2.06-.94L8.5 2.5l-.94 2.06-2.06.94zm10 10l.94 2.06.94-2.06 2.06-.94-2.06-.94-.94-2.06-.94 2.06-2.06.94z\"/><path d=\"M17.41 7.96l-1.37-1.37c-.4-.4-.92-.59-1.43-.59-.52 0-1.04.2-1.43.59L10.3 9.45l-7.72 7.72c-.78.78-.78 2.05 0 2.83L4 21.41c.39.39.9.59 1.41.59.51 0 1.02-.2 1.41-.59l7.78-7.78 2.81-2.81c.8-.78.8-2.07 0-2.86zM5.41 20L4 18.59l7.72-7.72 1.47 1.35L5.41 20z\"/>\n",
              "  </svg>\n",
              "      </button>\n",
              "      \n",
              "  <style>\n",
              "    .colab-df-container {\n",
              "      display:flex;\n",
              "      flex-wrap:wrap;\n",
              "      gap: 12px;\n",
              "    }\n",
              "\n",
              "    .colab-df-convert {\n",
              "      background-color: #E8F0FE;\n",
              "      border: none;\n",
              "      border-radius: 50%;\n",
              "      cursor: pointer;\n",
              "      display: none;\n",
              "      fill: #1967D2;\n",
              "      height: 32px;\n",
              "      padding: 0 0 0 0;\n",
              "      width: 32px;\n",
              "    }\n",
              "\n",
              "    .colab-df-convert:hover {\n",
              "      background-color: #E2EBFA;\n",
              "      box-shadow: 0px 1px 2px rgba(60, 64, 67, 0.3), 0px 1px 3px 1px rgba(60, 64, 67, 0.15);\n",
              "      fill: #174EA6;\n",
              "    }\n",
              "\n",
              "    [theme=dark] .colab-df-convert {\n",
              "      background-color: #3B4455;\n",
              "      fill: #D2E3FC;\n",
              "    }\n",
              "\n",
              "    [theme=dark] .colab-df-convert:hover {\n",
              "      background-color: #434B5C;\n",
              "      box-shadow: 0px 1px 3px 1px rgba(0, 0, 0, 0.15);\n",
              "      filter: drop-shadow(0px 1px 2px rgba(0, 0, 0, 0.3));\n",
              "      fill: #FFFFFF;\n",
              "    }\n",
              "  </style>\n",
              "\n",
              "      <script>\n",
              "        const buttonEl =\n",
              "          document.querySelector('#df-17e0703b-ddf0-47fe-b371-8ade952b96a5 button.colab-df-convert');\n",
              "        buttonEl.style.display =\n",
              "          google.colab.kernel.accessAllowed ? 'block' : 'none';\n",
              "\n",
              "        async function convertToInteractive(key) {\n",
              "          const element = document.querySelector('#df-17e0703b-ddf0-47fe-b371-8ade952b96a5');\n",
              "          const dataTable =\n",
              "            await google.colab.kernel.invokeFunction('convertToInteractive',\n",
              "                                                     [key], {});\n",
              "          if (!dataTable) return;\n",
              "\n",
              "          const docLinkHtml = 'Like what you see? Visit the ' +\n",
              "            '<a target=\"_blank\" href=https://colab.research.google.com/notebooks/data_table.ipynb>data table notebook</a>'\n",
              "            + ' to learn more about interactive tables.';\n",
              "          element.innerHTML = '';\n",
              "          dataTable['output_type'] = 'display_data';\n",
              "          await google.colab.output.renderOutput(dataTable, element);\n",
              "          const docLink = document.createElement('div');\n",
              "          docLink.innerHTML = docLinkHtml;\n",
              "          element.appendChild(docLink);\n",
              "        }\n",
              "      </script>\n",
              "    </div>\n",
              "  </div>\n",
              "  "
            ],
            "text/plain": [
              "   Ozone  Solar.R  Wind  Temp  Month  Day\n",
              "0   41.0    190.0   7.4    67      5    1\n",
              "1   36.0    118.0   8.0    72      5    2\n",
              "2   12.0    149.0  12.6    74      5    3\n",
              "3   18.0    313.0  11.5    62      5    4\n",
              "4    NaN      NaN  14.3    56      5    5"
            ]
          },
          "execution_count": 3,
          "metadata": {},
          "output_type": "execute_result"
        }
      ],
      "source": [
        "data = pd.read_csv('airquality.csv')\n",
        "data.head()"
      ]
    },
    {
      "cell_type": "markdown",
      "metadata": {
        "id": "lz4Wi1LX-Q84"
      },
      "source": [
        "Выведите описательные статистики (метод `describe`) для всех признаков, для которых это имеет смысл.  Округлите до второго знака после запятой."
      ]
    },
    {
      "cell_type": "code",
      "execution_count": null,
      "metadata": {
        "colab": {
          "base_uri": "https://localhost:8080/",
          "height": 297
        },
        "id": "Ti9dst5O-Q85",
        "outputId": "943a7329-d1ad-4291-b2c6-e0997ca79701"
      },
      "outputs": [
        {
          "data": {
            "text/html": [
              "\n",
              "  <div id=\"df-50439ba3-f48c-4f56-a583-662aa7045c2e\">\n",
              "    <div class=\"colab-df-container\">\n",
              "      <div>\n",
              "<style scoped>\n",
              "    .dataframe tbody tr th:only-of-type {\n",
              "        vertical-align: middle;\n",
              "    }\n",
              "\n",
              "    .dataframe tbody tr th {\n",
              "        vertical-align: top;\n",
              "    }\n",
              "\n",
              "    .dataframe thead th {\n",
              "        text-align: right;\n",
              "    }\n",
              "</style>\n",
              "<table border=\"1\" class=\"dataframe\">\n",
              "  <thead>\n",
              "    <tr style=\"text-align: right;\">\n",
              "      <th></th>\n",
              "      <th>Ozone</th>\n",
              "      <th>Solar.R</th>\n",
              "      <th>Wind</th>\n",
              "      <th>Temp</th>\n",
              "      <th>Month</th>\n",
              "      <th>Day</th>\n",
              "    </tr>\n",
              "  </thead>\n",
              "  <tbody>\n",
              "    <tr>\n",
              "      <th>count</th>\n",
              "      <td>116.00</td>\n",
              "      <td>146.00</td>\n",
              "      <td>153.00</td>\n",
              "      <td>153.00</td>\n",
              "      <td>153.00</td>\n",
              "      <td>153.00</td>\n",
              "    </tr>\n",
              "    <tr>\n",
              "      <th>mean</th>\n",
              "      <td>42.13</td>\n",
              "      <td>185.93</td>\n",
              "      <td>9.96</td>\n",
              "      <td>77.88</td>\n",
              "      <td>6.99</td>\n",
              "      <td>15.80</td>\n",
              "    </tr>\n",
              "    <tr>\n",
              "      <th>std</th>\n",
              "      <td>32.99</td>\n",
              "      <td>90.06</td>\n",
              "      <td>3.52</td>\n",
              "      <td>9.47</td>\n",
              "      <td>1.42</td>\n",
              "      <td>8.86</td>\n",
              "    </tr>\n",
              "    <tr>\n",
              "      <th>min</th>\n",
              "      <td>1.00</td>\n",
              "      <td>7.00</td>\n",
              "      <td>1.70</td>\n",
              "      <td>56.00</td>\n",
              "      <td>5.00</td>\n",
              "      <td>1.00</td>\n",
              "    </tr>\n",
              "    <tr>\n",
              "      <th>25%</th>\n",
              "      <td>18.00</td>\n",
              "      <td>115.75</td>\n",
              "      <td>7.40</td>\n",
              "      <td>72.00</td>\n",
              "      <td>6.00</td>\n",
              "      <td>8.00</td>\n",
              "    </tr>\n",
              "    <tr>\n",
              "      <th>50%</th>\n",
              "      <td>31.50</td>\n",
              "      <td>205.00</td>\n",
              "      <td>9.70</td>\n",
              "      <td>79.00</td>\n",
              "      <td>7.00</td>\n",
              "      <td>16.00</td>\n",
              "    </tr>\n",
              "    <tr>\n",
              "      <th>75%</th>\n",
              "      <td>63.25</td>\n",
              "      <td>258.75</td>\n",
              "      <td>11.50</td>\n",
              "      <td>85.00</td>\n",
              "      <td>8.00</td>\n",
              "      <td>23.00</td>\n",
              "    </tr>\n",
              "    <tr>\n",
              "      <th>max</th>\n",
              "      <td>168.00</td>\n",
              "      <td>334.00</td>\n",
              "      <td>20.70</td>\n",
              "      <td>97.00</td>\n",
              "      <td>9.00</td>\n",
              "      <td>31.00</td>\n",
              "    </tr>\n",
              "  </tbody>\n",
              "</table>\n",
              "</div>\n",
              "      <button class=\"colab-df-convert\" onclick=\"convertToInteractive('df-50439ba3-f48c-4f56-a583-662aa7045c2e')\"\n",
              "              title=\"Convert this dataframe to an interactive table.\"\n",
              "              style=\"display:none;\">\n",
              "        \n",
              "  <svg xmlns=\"http://www.w3.org/2000/svg\" height=\"24px\"viewBox=\"0 0 24 24\"\n",
              "       width=\"24px\">\n",
              "    <path d=\"M0 0h24v24H0V0z\" fill=\"none\"/>\n",
              "    <path d=\"M18.56 5.44l.94 2.06.94-2.06 2.06-.94-2.06-.94-.94-2.06-.94 2.06-2.06.94zm-11 1L8.5 8.5l.94-2.06 2.06-.94-2.06-.94L8.5 2.5l-.94 2.06-2.06.94zm10 10l.94 2.06.94-2.06 2.06-.94-2.06-.94-.94-2.06-.94 2.06-2.06.94z\"/><path d=\"M17.41 7.96l-1.37-1.37c-.4-.4-.92-.59-1.43-.59-.52 0-1.04.2-1.43.59L10.3 9.45l-7.72 7.72c-.78.78-.78 2.05 0 2.83L4 21.41c.39.39.9.59 1.41.59.51 0 1.02-.2 1.41-.59l7.78-7.78 2.81-2.81c.8-.78.8-2.07 0-2.86zM5.41 20L4 18.59l7.72-7.72 1.47 1.35L5.41 20z\"/>\n",
              "  </svg>\n",
              "      </button>\n",
              "      \n",
              "  <style>\n",
              "    .colab-df-container {\n",
              "      display:flex;\n",
              "      flex-wrap:wrap;\n",
              "      gap: 12px;\n",
              "    }\n",
              "\n",
              "    .colab-df-convert {\n",
              "      background-color: #E8F0FE;\n",
              "      border: none;\n",
              "      border-radius: 50%;\n",
              "      cursor: pointer;\n",
              "      display: none;\n",
              "      fill: #1967D2;\n",
              "      height: 32px;\n",
              "      padding: 0 0 0 0;\n",
              "      width: 32px;\n",
              "    }\n",
              "\n",
              "    .colab-df-convert:hover {\n",
              "      background-color: #E2EBFA;\n",
              "      box-shadow: 0px 1px 2px rgba(60, 64, 67, 0.3), 0px 1px 3px 1px rgba(60, 64, 67, 0.15);\n",
              "      fill: #174EA6;\n",
              "    }\n",
              "\n",
              "    [theme=dark] .colab-df-convert {\n",
              "      background-color: #3B4455;\n",
              "      fill: #D2E3FC;\n",
              "    }\n",
              "\n",
              "    [theme=dark] .colab-df-convert:hover {\n",
              "      background-color: #434B5C;\n",
              "      box-shadow: 0px 1px 3px 1px rgba(0, 0, 0, 0.15);\n",
              "      filter: drop-shadow(0px 1px 2px rgba(0, 0, 0, 0.3));\n",
              "      fill: #FFFFFF;\n",
              "    }\n",
              "  </style>\n",
              "\n",
              "      <script>\n",
              "        const buttonEl =\n",
              "          document.querySelector('#df-50439ba3-f48c-4f56-a583-662aa7045c2e button.colab-df-convert');\n",
              "        buttonEl.style.display =\n",
              "          google.colab.kernel.accessAllowed ? 'block' : 'none';\n",
              "\n",
              "        async function convertToInteractive(key) {\n",
              "          const element = document.querySelector('#df-50439ba3-f48c-4f56-a583-662aa7045c2e');\n",
              "          const dataTable =\n",
              "            await google.colab.kernel.invokeFunction('convertToInteractive',\n",
              "                                                     [key], {});\n",
              "          if (!dataTable) return;\n",
              "\n",
              "          const docLinkHtml = 'Like what you see? Visit the ' +\n",
              "            '<a target=\"_blank\" href=https://colab.research.google.com/notebooks/data_table.ipynb>data table notebook</a>'\n",
              "            + ' to learn more about interactive tables.';\n",
              "          element.innerHTML = '';\n",
              "          dataTable['output_type'] = 'display_data';\n",
              "          await google.colab.output.renderOutput(dataTable, element);\n",
              "          const docLink = document.createElement('div');\n",
              "          docLink.innerHTML = docLinkHtml;\n",
              "          element.appendChild(docLink);\n",
              "        }\n",
              "      </script>\n",
              "    </div>\n",
              "  </div>\n",
              "  "
            ],
            "text/plain": [
              "        Ozone  Solar.R    Wind    Temp   Month     Day\n",
              "count  116.00   146.00  153.00  153.00  153.00  153.00\n",
              "mean    42.13   185.93    9.96   77.88    6.99   15.80\n",
              "std     32.99    90.06    3.52    9.47    1.42    8.86\n",
              "min      1.00     7.00    1.70   56.00    5.00    1.00\n",
              "25%     18.00   115.75    7.40   72.00    6.00    8.00\n",
              "50%     31.50   205.00    9.70   79.00    7.00   16.00\n",
              "75%     63.25   258.75   11.50   85.00    8.00   23.00\n",
              "max    168.00   334.00   20.70   97.00    9.00   31.00"
            ]
          },
          "execution_count": 31,
          "metadata": {},
          "output_type": "execute_result"
        }
      ],
      "source": [
        "data.describe().round(2)"
      ]
    },
    {
      "cell_type": "markdown",
      "metadata": {
        "id": "JCD7tqg3-Q85"
      },
      "source": [
        "Что можно сказать о наличии в данных выбросов, сравнивая выборочную медиану и выборочное среднее?"
      ]
    },
    {
      "cell_type": "markdown",
      "metadata": {
        "id": "Pg4JYlJ8-Q85"
      },
      "source": [
        "**Ответ:**\n",
        "Можно заметить, что данные несильно отличаются друг от друга. Это может говорить о том, что в данных нет явных выбросов. \n",
        "\n",
        "\n",
        "Но нельзя это утвердать, так как выбросы могут быть спрятаны или их малое количество. Поэтому для их выявления нужны другие методы."
      ]
    },
    {
      "cell_type": "markdown",
      "metadata": {
        "id": "R31ETTf_-Q85"
      },
      "source": [
        "**2.** Теперь для каждого параметра постройте график ящиков с усами (`boxplot`), в котором ось `x` соответствует номеру месяца, а ось `y` — значениям параметра (т.е. свой ящик для каждого месяца). Используйте функцию `seaborn.boxplot`."
      ]
    },
    {
      "cell_type": "code",
      "execution_count": null,
      "metadata": {
        "colab": {
          "base_uri": "https://localhost:8080/",
          "height": 536
        },
        "id": "HLe6wkLZ-Q85",
        "outputId": "73524ac0-e157-418e-b614-272587858b7e"
      },
      "outputs": [
        {
          "data": {
            "image/png": "[encoded data removed]",
            "text/plain": [
              "<Figure size 1080x576 with 1 Axes>"
            ]
          },
          "metadata": {},
          "output_type": "display_data"
        }
      ],
      "source": [
        "fig, ax = plt.subplots(figsize=(15,8))\n",
        "sns.boxplot(x=data['Month'], y=data['Ozone'], palette='Set3', ax=ax )\n",
        "\n",
        "sns.set_style(\"whitegrid\")\n",
        "\n",
        "ax.set_title('Boxplot для Ozone в разные месяцы', fontsize=25, fontweight='bold')\n",
        "ax.set_xlabel('Месяцы', fontsize=18, fontweight='bold')\n",
        "ax.set_ylabel('Концетрация (ppb)', fontsize=18, fontweight='bold')\n",
        "\n",
        "ax.grid(True)"
      ]
    },
    {
      "cell_type": "code",
      "execution_count": null,
      "metadata": {
        "colab": {
          "base_uri": "https://localhost:8080/",
          "height": 536
        },
        "id": "Wb2KLW53f0t8",
        "outputId": "bfffe48c-de0a-48d2-a507-78d3dda9160e"
      },
      "outputs": [
        {
          "data": {
            "image/png": "[encoded data removed]",
            "text/plain": [
              "<Figure size 1080x576 with 1 Axes>"
            ]
          },
          "metadata": {},
          "output_type": "display_data"
        }
      ],
      "source": [
        "fig, ax = plt.subplots(figsize=(15,8))\n",
        "sns.boxplot(x=data['Month'], y=data['Solar.R'], palette='Set3', ax=ax )\n",
        "\n",
        "ax.set_title('Boxplot для Solar.R в разные месяцы', fontsize=25, fontweight='bold')\n",
        "ax.set_xlabel('Месяцы', fontsize=18, fontweight='bold')\n",
        "ax.set_ylabel('Langley', fontsize=18, fontweight='bold') #единица измерения\n",
        "\n",
        "sns.set_style(\"whitegrid\")\n",
        "\n",
        "ax.grid(True)"
      ]
    },
    {
      "cell_type": "code",
      "execution_count": null,
      "metadata": {
        "colab": {
          "base_uri": "https://localhost:8080/",
          "height": 536
        },
        "id": "vYbVCEZif5Id",
        "outputId": "11effe42-afa1-4269-e3db-27ae9cbe5bf0"
      },
      "outputs": [
        {
          "data": {
            "image/png": "[encoded data removed]",
            "text/plain": [
              "<Figure size 1080x576 with 1 Axes>"
            ]
          },
          "metadata": {},
          "output_type": "display_data"
        }
      ],
      "source": [
        "fig, ax = plt.subplots(figsize=(15,8))\n",
        "sns.boxplot(x=data['Month'], y=data['Wind'], palette='Set3', ax=ax )\n",
        "\n",
        "ax.set_title('Boxplot для Wind в разные месяцы', fontsize=25, fontweight='bold')\n",
        "ax.set_xlabel('Месяцы', fontsize=18, fontweight='bold')\n",
        "ax.set_ylabel('Мили в час (mph)', fontsize=18, fontweight='bold')\n",
        "\n",
        "sns.set_style(\"whitegrid\")\n",
        "\n",
        "ax.grid(True)"
      ]
    },
    {
      "cell_type": "code",
      "execution_count": null,
      "metadata": {
        "colab": {
          "base_uri": "https://localhost:8080/",
          "height": 536
        },
        "id": "npPW5QaZgLHg",
        "outputId": "957d51d5-ade2-4f71-cc82-3bf8015ce703"
      },
      "outputs": [
        {
          "data": {
            "image/png": "[encoded data removed]",
            "text/plain": [
              "<Figure size 1080x576 with 1 Axes>"
            ]
          },
          "metadata": {},
          "output_type": "display_data"
        }
      ],
      "source": [
        "fig, ax = plt.subplots(figsize=(15,8))\n",
        "sns.boxplot(x=data['Month'], y=data['Temp'], palette='Set3', ax=ax )\n",
        "\n",
        "ax.set_title('Boxplot для Temp в разные месяцы', fontsize=25, fontweight='bold')\n",
        "ax.set_xlabel('Месяцы', fontsize=18, fontweight='bold')\n",
        "ax.set_ylabel('Градусы (F)', fontsize=18, fontweight='bold')\n",
        "\n",
        "sns.set_style(\"whitegrid\")\n",
        "\n",
        "ax.grid(True)"
      ]
    },
    {
      "cell_type": "markdown",
      "metadata": {
        "id": "_GlsRdyO-Q86"
      },
      "source": [
        "Опишите структуру `boxplot`. Какие выводы можно сделать в данном случае?"
      ]
    },
    {
      "cell_type": "markdown",
      "metadata": {
        "id": "GbmesdVE-Q86"
      },
      "source": [
        "**Ответ:**\n",
        "Boxplot представляет собой прямоугольник(яшик), горизонтальные/вертикальные линии(усы) и точки(выбросы). \n",
        "\n",
        "1)Первая граница ящика- 1й квартиль(25-й процентиль), вторая граница-3 квартиль(75-й процентиль). \n",
        "\n",
        "2)Между границами ящиков есть еще одна линия- это медиана(50-й процентиль). \n",
        "\n",
        "3)Выбросы - это точки, которые находятся за пределами усов.\n",
        "\n",
        "\n",
        "Проанализировав графики, можно прийти к следующим выводам:\n",
        "\n",
        "1) Концентрация озона высока в летние месяцы, максимум достигается в июле. После наблюдаем спад концетрации. Возможно, по этой причине больше всего выбросов в сентябре\n",
        "\n",
        "2)Значения интенсивности солнечного излучения с мая по июль были наибольшими, то есть эти месяцы были более солнечные, чем август и сентябрь. Однако, в июле есть небольшое количество выбросов, что говорит, что были туманные дни.\n",
        "\n",
        "\n",
        "3)Значения скорости ветра минимальны в июль-август, максимальны в мае. Это может указывать на то, что в мае дни еще ветренные, а в июле-августе меньше ветра. Также в июне-июле есть выбросы, которые могут значить, что были более ветренные или безветренные дни.\n",
        "\n",
        "4)Значения температуры, как можно было предположить, выше в летние месяцы(июнь-август). Однако в июне-июле есть выбросы, которые говорят, что были прохладные дни. Возможно, если провести параллель с анализом по скорости ветра, это могут быть те же дни, в которые наблюдался более сильный ветер. \n",
        "\n",
        "\n",
        "\n",
        "\n",
        "\n",
        "\n",
        "Boxplot позволяет наглядно представить распределение данных по квартилям, в том числе по медиане, и выбросам.\n"
      ]
    },
    {
      "cell_type": "markdown",
      "metadata": {
        "id": "7_oWtI0W-Q86"
      },
      "source": [
        "**3.** Для параметра с наибольшим числом наблюдений, признанных выбросами, посчитайте и сравните: \n",
        "- выборочное среднее; \n",
        "- выборочную медиану;"
      ]
    },
    {
      "cell_type": "markdown",
      "metadata": {
        "id": "nkHpvRDmgU6U"
      },
      "source": [
        "Проанализировав графики сверху, можно заметить, что больше всего выбросов по параметру Ozone. Рассчитаем выборочное среденее и и выборочную медиану."
      ]
    },
    {
      "cell_type": "code",
      "execution_count": null,
      "metadata": {
        "colab": {
          "base_uri": "https://localhost:8080/"
        },
        "id": "SU85pmG9-Q87",
        "outputId": "2bbf09f8-b078-4db7-af11-075f8de3f515"
      },
      "outputs": [
        {
          "data": {
            "text/plain": [
              "(42.129, 31.5)"
            ]
          },
          "execution_count": 26,
          "metadata": {},
          "output_type": "execute_result"
        }
      ],
      "source": [
        "parameter = data['Ozone']\n",
        "parameter = parameter.dropna()\n",
        "\n",
        "mean = parameter.mean().round(3)\n",
        "mediana = parameter.median()\n",
        "\n",
        "mean, mediana"
      ]
    },
    {
      "cell_type": "markdown",
      "metadata": {
        "id": "TsudRxqm-Q87"
      },
      "source": [
        "Какими свойствами статистик вызваны наблюдаемые различия?"
      ]
    },
    {
      "cell_type": "markdown",
      "metadata": {
        "id": "IXSw2PXi-Q87"
      },
      "source": [
        "**Ответ:** Значения различаются, что говорит о наличии существенных выбросов, которые влияют на среднее, но не на значение медианы.\n",
        "\n",
        "\n",
        "Медиана более устойчивая к выбросам, так как она делит упорядоченную выборку на две части, получается меньше зависит от далеко стоящих значений."
      ]
    },
    {
      "cell_type": "markdown",
      "metadata": {
        "id": "os6RGfXA-Q87"
      },
      "source": [
        "При подсчете этих статистик обычно предполагается, что наблюдения независимы. Выполнено ли это свойство в данном случае?"
      ]
    },
    {
      "cell_type": "markdown",
      "metadata": {
        "id": "d50aGLY_-Q87"
      },
      "source": [
        "**Ответ:** Точно утверждать не можем, так как не знаем каким образом и в каких условиях были собраны данные.\n",
        "\n",
        "\n",
        "Если собраны специфически, то утверждать о независимости нельзя, так как они становятся зависимыми.  Если условия собраны случайным образом, то независимость выполняется."
      ]
    },
    {
      "cell_type": "markdown",
      "metadata": {
        "id": "pfpFjLOi-Q88"
      },
      "source": [
        "А оно часто бывает выполнено? Как это можно проверить? Что бывает, когда оно нарушается? Какие вы есть количественные меры зависимости между признаками? Ответы на эти вопросы вы узнаете далее, но задуматься и порассуждать полезно уже сейчас."
      ]
    },
    {
      "cell_type": "markdown",
      "metadata": {
        "id": "-CqNPK8A-Q88"
      },
      "source": [
        "**Ответ:** Мне кажется, что независимость часто нарушается.\n",
        "Возможно,  это проверить можно с помощью коэффициента корреляции(или какого-нибудь метода, связанного с корреляцией).\n",
        "\n",
        "Нарушение независимости, может привести к некорректным выводам и результатам при анализе.\n",
        "\n",
        "Количественная мера-коэффициент корреляции."
      ]
    },
    {
      "cell_type": "markdown",
      "metadata": {
        "id": "VHpHqPF9-Q88"
      },
      "source": [
        "Сделайте выводы о полезности робастных статистик, методах визуального анализа и о наличии независимых одинаково распределённых случайных величин в реальном мире.\n",
        "\n"
      ]
    },
    {
      "cell_type": "markdown",
      "metadata": {
        "id": "VZawhXsj-Q88"
      },
      "source": [
        "**Вывод:** Метод визуального анализа - это способ быстро провести анализ данных: выявить выбросы, медиану, распредление  и тд. Это поможет в дальшей работе с данными.\n",
        "\n",
        "Робастные статистики- это показатели, которые устойчивы к выбросам. Они важны при анализе данных, так как почти всегда есть выбросы, которые могут направить на неправильный вывод.\n",
        "\n",
        "Мне кажется, что в реальном мире мало независимых одинаково распределённых случайных величин. Так как в данных всегда есть выбросы, которые нарушают одинаковость распределение и независимость. Нужно при работе с данными выявлять выбросы и стараться брать такие диапозоны, в которых их нет. Тогда будет корректный анализ."
      ]
    },
    {
      "cell_type": "markdown",
      "metadata": {
        "id": "14hQ2CUk-Q88"
      },
      "source": [
        "## Задача 2\n",
        "Cкачайте данные <a href=\"http://archive.ics.uci.edu/ml/datasets/wine\">`wine dataset`</a> и рассмотрите столбцы `Alcalinity of ash`, `Nonflavanoid phenols`, `Proanthocyanins` и `Hue` для вина *первого типа*. Тип вина указан в первом столбце. Для работы с табличными данными используйте библиотеку `pandas`.\n",
        "\n",
        "Постройте доверительные интервалы для параметров сдвига каждого из столбцов, предполагая, что столбцы имеют нормальное распределение.\n",
        "Требуется построить: \n",
        " * асимтотические доверительные интервалы при помощи центральной предельной теоремы;\n",
        " * точные неасимптотические при помощи распределений хи-квадрат, Стьюдента.\n",
        "\n",
        " \n",
        " Запишите их в виде таблицы."
      ]
    },
    {
      "cell_type": "code",
      "execution_count": null,
      "metadata": {
        "colab": {
          "base_uri": "https://localhost:8080/",
          "height": 204
        },
        "id": "-LVLn2mz-Q89",
        "outputId": "e0341591-e450-4efa-cf01-1ea7a1e4d860"
      },
      "outputs": [
        {
          "data": {
            "text/html": [
              "\n",
              "  <div id=\"df-5dd894cc-4f8e-4997-a074-46fa4c3c5a49\">\n",
              "    <div class=\"colab-df-container\">\n",
              "      <div>\n",
              "<style scoped>\n",
              "    .dataframe tbody tr th:only-of-type {\n",
              "        vertical-align: middle;\n",
              "    }\n",
              "\n",
              "    .dataframe tbody tr th {\n",
              "        vertical-align: top;\n",
              "    }\n",
              "\n",
              "    .dataframe thead th {\n",
              "        text-align: right;\n",
              "    }\n",
              "</style>\n",
              "<table border=\"1\" class=\"dataframe\">\n",
              "  <thead>\n",
              "    <tr style=\"text-align: right;\">\n",
              "      <th></th>\n",
              "      <th>type</th>\n",
              "      <th>col1</th>\n",
              "      <th>col2</th>\n",
              "      <th>col3</th>\n",
              "      <th>col4</th>\n",
              "      <th>col5</th>\n",
              "      <th>col6</th>\n",
              "      <th>col7</th>\n",
              "      <th>col8</th>\n",
              "      <th>col9</th>\n",
              "      <th>col10</th>\n",
              "      <th>col11</th>\n",
              "      <th>col12</th>\n",
              "      <th>col13</th>\n",
              "    </tr>\n",
              "  </thead>\n",
              "  <tbody>\n",
              "    <tr>\n",
              "      <th>0</th>\n",
              "      <td>1</td>\n",
              "      <td>14.23</td>\n",
              "      <td>1.71</td>\n",
              "      <td>2.43</td>\n",
              "      <td>15.6</td>\n",
              "      <td>127</td>\n",
              "      <td>2.80</td>\n",
              "      <td>3.06</td>\n",
              "      <td>0.28</td>\n",
              "      <td>2.29</td>\n",
              "      <td>5.64</td>\n",
              "      <td>1.04</td>\n",
              "      <td>3.92</td>\n",
              "      <td>1065</td>\n",
              "    </tr>\n",
              "    <tr>\n",
              "      <th>1</th>\n",
              "      <td>1</td>\n",
              "      <td>13.20</td>\n",
              "      <td>1.78</td>\n",
              "      <td>2.14</td>\n",
              "      <td>11.2</td>\n",
              "      <td>100</td>\n",
              "      <td>2.65</td>\n",
              "      <td>2.76</td>\n",
              "      <td>0.26</td>\n",
              "      <td>1.28</td>\n",
              "      <td>4.38</td>\n",
              "      <td>1.05</td>\n",
              "      <td>3.40</td>\n",
              "      <td>1050</td>\n",
              "    </tr>\n",
              "    <tr>\n",
              "      <th>2</th>\n",
              "      <td>1</td>\n",
              "      <td>13.16</td>\n",
              "      <td>2.36</td>\n",
              "      <td>2.67</td>\n",
              "      <td>18.6</td>\n",
              "      <td>101</td>\n",
              "      <td>2.80</td>\n",
              "      <td>3.24</td>\n",
              "      <td>0.30</td>\n",
              "      <td>2.81</td>\n",
              "      <td>5.68</td>\n",
              "      <td>1.03</td>\n",
              "      <td>3.17</td>\n",
              "      <td>1185</td>\n",
              "    </tr>\n",
              "    <tr>\n",
              "      <th>3</th>\n",
              "      <td>1</td>\n",
              "      <td>14.37</td>\n",
              "      <td>1.95</td>\n",
              "      <td>2.50</td>\n",
              "      <td>16.8</td>\n",
              "      <td>113</td>\n",
              "      <td>3.85</td>\n",
              "      <td>3.49</td>\n",
              "      <td>0.24</td>\n",
              "      <td>2.18</td>\n",
              "      <td>7.80</td>\n",
              "      <td>0.86</td>\n",
              "      <td>3.45</td>\n",
              "      <td>1480</td>\n",
              "    </tr>\n",
              "    <tr>\n",
              "      <th>4</th>\n",
              "      <td>1</td>\n",
              "      <td>13.24</td>\n",
              "      <td>2.59</td>\n",
              "      <td>2.87</td>\n",
              "      <td>21.0</td>\n",
              "      <td>118</td>\n",
              "      <td>2.80</td>\n",
              "      <td>2.69</td>\n",
              "      <td>0.39</td>\n",
              "      <td>1.82</td>\n",
              "      <td>4.32</td>\n",
              "      <td>1.04</td>\n",
              "      <td>2.93</td>\n",
              "      <td>735</td>\n",
              "    </tr>\n",
              "  </tbody>\n",
              "</table>\n",
              "</div>\n",
              "      <button class=\"colab-df-convert\" onclick=\"convertToInteractive('df-5dd894cc-4f8e-4997-a074-46fa4c3c5a49')\"\n",
              "              title=\"Convert this dataframe to an interactive table.\"\n",
              "              style=\"display:none;\">\n",
              "        \n",
              "  <svg xmlns=\"http://www.w3.org/2000/svg\" height=\"24px\"viewBox=\"0 0 24 24\"\n",
              "       width=\"24px\">\n",
              "    <path d=\"M0 0h24v24H0V0z\" fill=\"none\"/>\n",
              "    <path d=\"M18.56 5.44l.94 2.06.94-2.06 2.06-.94-2.06-.94-.94-2.06-.94 2.06-2.06.94zm-11 1L8.5 8.5l.94-2.06 2.06-.94-2.06-.94L8.5 2.5l-.94 2.06-2.06.94zm10 10l.94 2.06.94-2.06 2.06-.94-2.06-.94-.94-2.06-.94 2.06-2.06.94z\"/><path d=\"M17.41 7.96l-1.37-1.37c-.4-.4-.92-.59-1.43-.59-.52 0-1.04.2-1.43.59L10.3 9.45l-7.72 7.72c-.78.78-.78 2.05 0 2.83L4 21.41c.39.39.9.59 1.41.59.51 0 1.02-.2 1.41-.59l7.78-7.78 2.81-2.81c.8-.78.8-2.07 0-2.86zM5.41 20L4 18.59l7.72-7.72 1.47 1.35L5.41 20z\"/>\n",
              "  </svg>\n",
              "      </button>\n",
              "      \n",
              "  <style>\n",
              "    .colab-df-container {\n",
              "      display:flex;\n",
              "      flex-wrap:wrap;\n",
              "      gap: 12px;\n",
              "    }\n",
              "\n",
              "    .colab-df-convert {\n",
              "      background-color: #E8F0FE;\n",
              "      border: none;\n",
              "      border-radius: 50%;\n",
              "      cursor: pointer;\n",
              "      display: none;\n",
              "      fill: #1967D2;\n",
              "      height: 32px;\n",
              "      padding: 0 0 0 0;\n",
              "      width: 32px;\n",
              "    }\n",
              "\n",
              "    .colab-df-convert:hover {\n",
              "      background-color: #E2EBFA;\n",
              "      box-shadow: 0px 1px 2px rgba(60, 64, 67, 0.3), 0px 1px 3px 1px rgba(60, 64, 67, 0.15);\n",
              "      fill: #174EA6;\n",
              "    }\n",
              "\n",
              "    [theme=dark] .colab-df-convert {\n",
              "      background-color: #3B4455;\n",
              "      fill: #D2E3FC;\n",
              "    }\n",
              "\n",
              "    [theme=dark] .colab-df-convert:hover {\n",
              "      background-color: #434B5C;\n",
              "      box-shadow: 0px 1px 3px 1px rgba(0, 0, 0, 0.15);\n",
              "      filter: drop-shadow(0px 1px 2px rgba(0, 0, 0, 0.3));\n",
              "      fill: #FFFFFF;\n",
              "    }\n",
              "  </style>\n",
              "\n",
              "      <script>\n",
              "        const buttonEl =\n",
              "          document.querySelector('#df-5dd894cc-4f8e-4997-a074-46fa4c3c5a49 button.colab-df-convert');\n",
              "        buttonEl.style.display =\n",
              "          google.colab.kernel.accessAllowed ? 'block' : 'none';\n",
              "\n",
              "        async function convertToInteractive(key) {\n",
              "          const element = document.querySelector('#df-5dd894cc-4f8e-4997-a074-46fa4c3c5a49');\n",
              "          const dataTable =\n",
              "            await google.colab.kernel.invokeFunction('convertToInteractive',\n",
              "                                                     [key], {});\n",
              "          if (!dataTable) return;\n",
              "\n",
              "          const docLinkHtml = 'Like what you see? Visit the ' +\n",
              "            '<a target=\"_blank\" href=https://colab.research.google.com/notebooks/data_table.ipynb>data table notebook</a>'\n",
              "            + ' to learn more about interactive tables.';\n",
              "          element.innerHTML = '';\n",
              "          dataTable['output_type'] = 'display_data';\n",
              "          await google.colab.output.renderOutput(dataTable, element);\n",
              "          const docLink = document.createElement('div');\n",
              "          docLink.innerHTML = docLinkHtml;\n",
              "          element.appendChild(docLink);\n",
              "        }\n",
              "      </script>\n",
              "    </div>\n",
              "  </div>\n",
              "  "
            ],
            "text/plain": [
              "   type   col1  col2  col3  col4  col5  col6  col7  col8  col9  col10  col11  \\\n",
              "0     1  14.23  1.71  2.43  15.6   127  2.80  3.06  0.28  2.29   5.64   1.04   \n",
              "1     1  13.20  1.78  2.14  11.2   100  2.65  2.76  0.26  1.28   4.38   1.05   \n",
              "2     1  13.16  2.36  2.67  18.6   101  2.80  3.24  0.30  2.81   5.68   1.03   \n",
              "3     1  14.37  1.95  2.50  16.8   113  3.85  3.49  0.24  2.18   7.80   0.86   \n",
              "4     1  13.24  2.59  2.87  21.0   118  2.80  2.69  0.39  1.82   4.32   1.04   \n",
              "\n",
              "   col12  col13  \n",
              "0   3.92   1065  \n",
              "1   3.40   1050  \n",
              "2   3.17   1185  \n",
              "3   3.45   1480  \n",
              "4   2.93    735  "
            ]
          },
          "execution_count": 15,
          "metadata": {},
          "output_type": "execute_result"
        }
      ],
      "source": [
        "wine = pd.read_csv('wine.data', names=['type', 'col1', 'col2', 'col3', 'col4', 'col5', 'col6', 'col7', 'col8', 'col9', 'col10', 'col11', 'col12', 'col13'])\n",
        "wine.head()"
      ]
    },
    {
      "cell_type": "markdown",
      "metadata": {
        "id": "hVbFGmH4-gkh"
      },
      "source": [
        "Узнаем сколько всего в данных вин первого типа. Для этого посчитаем количество вин по уникальным значениям."
      ]
    },
    {
      "cell_type": "code",
      "execution_count": null,
      "metadata": {
        "colab": {
          "base_uri": "https://localhost:8080/"
        },
        "id": "TMlHzZsc-hOb",
        "outputId": "4f73eba8-27e6-4741-f313-64a09317b279"
      },
      "outputs": [
        {
          "data": {
            "text/plain": [
              "(array([1, 2, 3]), 2    71\n",
              " 1    59\n",
              " 3    48\n",
              " Name: type, dtype: int64)"
            ]
          },
          "execution_count": 16,
          "metadata": {},
          "output_type": "execute_result"
        }
      ],
      "source": [
        "types, counts = wine['type'].unique(), wine['type'].value_counts()\n",
        "types, counts"
      ]
    },
    {
      "cell_type": "markdown",
      "metadata": {
        "id": "Q2XhSAWp-nai"
      },
      "source": [
        "Получаем, что вин первого типа 59.\n",
        "\n",
        "\n",
        "\n",
        "\n",
        "Создадим новый DataFrame, где будут вина только первого типа и нужные нам 4 столбца:"
      ]
    },
    {
      "cell_type": "code",
      "execution_count": null,
      "metadata": {
        "colab": {
          "base_uri": "https://localhost:8080/",
          "height": 204
        },
        "id": "B-13cifm-oWK",
        "outputId": "3c86612b-0ee2-4d1c-f265-8fa1903f7255"
      },
      "outputs": [
        {
          "data": {
            "text/html": [
              "\n",
              "  <div id=\"df-2b4cd704-7dab-418a-86e5-b6bddd16bee4\">\n",
              "    <div class=\"colab-df-container\">\n",
              "      <div>\n",
              "<style scoped>\n",
              "    .dataframe tbody tr th:only-of-type {\n",
              "        vertical-align: middle;\n",
              "    }\n",
              "\n",
              "    .dataframe tbody tr th {\n",
              "        vertical-align: top;\n",
              "    }\n",
              "\n",
              "    .dataframe thead th {\n",
              "        text-align: right;\n",
              "    }\n",
              "</style>\n",
              "<table border=\"1\" class=\"dataframe\">\n",
              "  <thead>\n",
              "    <tr style=\"text-align: right;\">\n",
              "      <th></th>\n",
              "      <th>col4</th>\n",
              "      <th>col8</th>\n",
              "      <th>col9</th>\n",
              "      <th>col11</th>\n",
              "    </tr>\n",
              "  </thead>\n",
              "  <tbody>\n",
              "    <tr>\n",
              "      <th>54</th>\n",
              "      <td>16.4</td>\n",
              "      <td>0.21</td>\n",
              "      <td>1.62</td>\n",
              "      <td>0.92</td>\n",
              "    </tr>\n",
              "    <tr>\n",
              "      <th>55</th>\n",
              "      <td>20.5</td>\n",
              "      <td>0.20</td>\n",
              "      <td>2.45</td>\n",
              "      <td>0.98</td>\n",
              "    </tr>\n",
              "    <tr>\n",
              "      <th>56</th>\n",
              "      <td>16.3</td>\n",
              "      <td>0.26</td>\n",
              "      <td>2.03</td>\n",
              "      <td>0.94</td>\n",
              "    </tr>\n",
              "    <tr>\n",
              "      <th>57</th>\n",
              "      <td>16.8</td>\n",
              "      <td>0.31</td>\n",
              "      <td>1.66</td>\n",
              "      <td>1.07</td>\n",
              "    </tr>\n",
              "    <tr>\n",
              "      <th>58</th>\n",
              "      <td>16.7</td>\n",
              "      <td>0.19</td>\n",
              "      <td>2.04</td>\n",
              "      <td>0.89</td>\n",
              "    </tr>\n",
              "  </tbody>\n",
              "</table>\n",
              "</div>\n",
              "      <button class=\"colab-df-convert\" onclick=\"convertToInteractive('df-2b4cd704-7dab-418a-86e5-b6bddd16bee4')\"\n",
              "              title=\"Convert this dataframe to an interactive table.\"\n",
              "              style=\"display:none;\">\n",
              "        \n",
              "  <svg xmlns=\"http://www.w3.org/2000/svg\" height=\"24px\"viewBox=\"0 0 24 24\"\n",
              "       width=\"24px\">\n",
              "    <path d=\"M0 0h24v24H0V0z\" fill=\"none\"/>\n",
              "    <path d=\"M18.56 5.44l.94 2.06.94-2.06 2.06-.94-2.06-.94-.94-2.06-.94 2.06-2.06.94zm-11 1L8.5 8.5l.94-2.06 2.06-.94-2.06-.94L8.5 2.5l-.94 2.06-2.06.94zm10 10l.94 2.06.94-2.06 2.06-.94-2.06-.94-.94-2.06-.94 2.06-2.06.94z\"/><path d=\"M17.41 7.96l-1.37-1.37c-.4-.4-.92-.59-1.43-.59-.52 0-1.04.2-1.43.59L10.3 9.45l-7.72 7.72c-.78.78-.78 2.05 0 2.83L4 21.41c.39.39.9.59 1.41.59.51 0 1.02-.2 1.41-.59l7.78-7.78 2.81-2.81c.8-.78.8-2.07 0-2.86zM5.41 20L4 18.59l7.72-7.72 1.47 1.35L5.41 20z\"/>\n",
              "  </svg>\n",
              "      </button>\n",
              "      \n",
              "  <style>\n",
              "    .colab-df-container {\n",
              "      display:flex;\n",
              "      flex-wrap:wrap;\n",
              "      gap: 12px;\n",
              "    }\n",
              "\n",
              "    .colab-df-convert {\n",
              "      background-color: #E8F0FE;\n",
              "      border: none;\n",
              "      border-radius: 50%;\n",
              "      cursor: pointer;\n",
              "      display: none;\n",
              "      fill: #1967D2;\n",
              "      height: 32px;\n",
              "      padding: 0 0 0 0;\n",
              "      width: 32px;\n",
              "    }\n",
              "\n",
              "    .colab-df-convert:hover {\n",
              "      background-color: #E2EBFA;\n",
              "      box-shadow: 0px 1px 2px rgba(60, 64, 67, 0.3), 0px 1px 3px 1px rgba(60, 64, 67, 0.15);\n",
              "      fill: #174EA6;\n",
              "    }\n",
              "\n",
              "    [theme=dark] .colab-df-convert {\n",
              "      background-color: #3B4455;\n",
              "      fill: #D2E3FC;\n",
              "    }\n",
              "\n",
              "    [theme=dark] .colab-df-convert:hover {\n",
              "      background-color: #434B5C;\n",
              "      box-shadow: 0px 1px 3px 1px rgba(0, 0, 0, 0.15);\n",
              "      filter: drop-shadow(0px 1px 2px rgba(0, 0, 0, 0.3));\n",
              "      fill: #FFFFFF;\n",
              "    }\n",
              "  </style>\n",
              "\n",
              "      <script>\n",
              "        const buttonEl =\n",
              "          document.querySelector('#df-2b4cd704-7dab-418a-86e5-b6bddd16bee4 button.colab-df-convert');\n",
              "        buttonEl.style.display =\n",
              "          google.colab.kernel.accessAllowed ? 'block' : 'none';\n",
              "\n",
              "        async function convertToInteractive(key) {\n",
              "          const element = document.querySelector('#df-2b4cd704-7dab-418a-86e5-b6bddd16bee4');\n",
              "          const dataTable =\n",
              "            await google.colab.kernel.invokeFunction('convertToInteractive',\n",
              "                                                     [key], {});\n",
              "          if (!dataTable) return;\n",
              "\n",
              "          const docLinkHtml = 'Like what you see? Visit the ' +\n",
              "            '<a target=\"_blank\" href=https://colab.research.google.com/notebooks/data_table.ipynb>data table notebook</a>'\n",
              "            + ' to learn more about interactive tables.';\n",
              "          element.innerHTML = '';\n",
              "          dataTable['output_type'] = 'display_data';\n",
              "          await google.colab.output.renderOutput(dataTable, element);\n",
              "          const docLink = document.createElement('div');\n",
              "          docLink.innerHTML = docLinkHtml;\n",
              "          element.appendChild(docLink);\n",
              "        }\n",
              "      </script>\n",
              "    </div>\n",
              "  </div>\n",
              "  "
            ],
            "text/plain": [
              "    col4  col8  col9  col11\n",
              "54  16.4  0.21  1.62   0.92\n",
              "55  20.5  0.20  2.45   0.98\n",
              "56  16.3  0.26  2.03   0.94\n",
              "57  16.8  0.31  1.66   1.07\n",
              "58  16.7  0.19  2.04   0.89"
            ]
          },
          "execution_count": 17,
          "metadata": {},
          "output_type": "execute_result"
        }
      ],
      "source": [
        "columns = ['col4', 'col8', 'col9', 'col11']\n",
        "wine_1 = wine[wine['type'] == 1][['col4', 'col8', 'col9', 'col11']]\n",
        "wine_1.tail()\n",
        "\n",
        "\n"
      ]
    },
    {
      "cell_type": "markdown",
      "metadata": {
        "id": "Sl283SrbGf8b"
      },
      "source": [
        "Посчитаем выборочное среднее и стандартное отклонение. Будем использовать уровень доверия 95%:"
      ]
    },
    {
      "cell_type": "code",
      "execution_count": null,
      "metadata": {
        "colab": {
          "base_uri": "https://localhost:8080/",
          "height": 173
        },
        "id": "W-M-1ViLDZrH",
        "outputId": "6024d716-dbf5-4d7e-810c-5e6d0601c47d"
      },
      "outputs": [
        {
          "data": {
            "text/html": [
              "\n",
              "  <div id=\"df-88fa4ff9-ee4d-4d3d-8388-340462ba9053\">\n",
              "    <div class=\"colab-df-container\">\n",
              "      <div>\n",
              "<style scoped>\n",
              "    .dataframe tbody tr th:only-of-type {\n",
              "        vertical-align: middle;\n",
              "    }\n",
              "\n",
              "    .dataframe tbody tr th {\n",
              "        vertical-align: top;\n",
              "    }\n",
              "\n",
              "    .dataframe thead th {\n",
              "        text-align: right;\n",
              "    }\n",
              "</style>\n",
              "<table border=\"1\" class=\"dataframe\">\n",
              "  <thead>\n",
              "    <tr style=\"text-align: right;\">\n",
              "      <th></th>\n",
              "      <th>high_as</th>\n",
              "      <th>low_as</th>\n",
              "    </tr>\n",
              "  </thead>\n",
              "  <tbody>\n",
              "    <tr>\n",
              "      <th>col4</th>\n",
              "      <td>17.058076</td>\n",
              "      <td>17.016501</td>\n",
              "    </tr>\n",
              "    <tr>\n",
              "      <th>col8</th>\n",
              "      <td>0.290572</td>\n",
              "      <td>0.289428</td>\n",
              "    </tr>\n",
              "    <tr>\n",
              "      <th>col9</th>\n",
              "      <td>1.902686</td>\n",
              "      <td>1.895958</td>\n",
              "    </tr>\n",
              "    <tr>\n",
              "      <th>col11</th>\n",
              "      <td>1.062985</td>\n",
              "      <td>1.061083</td>\n",
              "    </tr>\n",
              "  </tbody>\n",
              "</table>\n",
              "</div>\n",
              "      <button class=\"colab-df-convert\" onclick=\"convertToInteractive('df-88fa4ff9-ee4d-4d3d-8388-340462ba9053')\"\n",
              "              title=\"Convert this dataframe to an interactive table.\"\n",
              "              style=\"display:none;\">\n",
              "        \n",
              "  <svg xmlns=\"http://www.w3.org/2000/svg\" height=\"24px\"viewBox=\"0 0 24 24\"\n",
              "       width=\"24px\">\n",
              "    <path d=\"M0 0h24v24H0V0z\" fill=\"none\"/>\n",
              "    <path d=\"M18.56 5.44l.94 2.06.94-2.06 2.06-.94-2.06-.94-.94-2.06-.94 2.06-2.06.94zm-11 1L8.5 8.5l.94-2.06 2.06-.94-2.06-.94L8.5 2.5l-.94 2.06-2.06.94zm10 10l.94 2.06.94-2.06 2.06-.94-2.06-.94-.94-2.06-.94 2.06-2.06.94z\"/><path d=\"M17.41 7.96l-1.37-1.37c-.4-.4-.92-.59-1.43-.59-.52 0-1.04.2-1.43.59L10.3 9.45l-7.72 7.72c-.78.78-.78 2.05 0 2.83L4 21.41c.39.39.9.59 1.41.59.51 0 1.02-.2 1.41-.59l7.78-7.78 2.81-2.81c.8-.78.8-2.07 0-2.86zM5.41 20L4 18.59l7.72-7.72 1.47 1.35L5.41 20z\"/>\n",
              "  </svg>\n",
              "      </button>\n",
              "      \n",
              "  <style>\n",
              "    .colab-df-container {\n",
              "      display:flex;\n",
              "      flex-wrap:wrap;\n",
              "      gap: 12px;\n",
              "    }\n",
              "\n",
              "    .colab-df-convert {\n",
              "      background-color: #E8F0FE;\n",
              "      border: none;\n",
              "      border-radius: 50%;\n",
              "      cursor: pointer;\n",
              "      display: none;\n",
              "      fill: #1967D2;\n",
              "      height: 32px;\n",
              "      padding: 0 0 0 0;\n",
              "      width: 32px;\n",
              "    }\n",
              "\n",
              "    .colab-df-convert:hover {\n",
              "      background-color: #E2EBFA;\n",
              "      box-shadow: 0px 1px 2px rgba(60, 64, 67, 0.3), 0px 1px 3px 1px rgba(60, 64, 67, 0.15);\n",
              "      fill: #174EA6;\n",
              "    }\n",
              "\n",
              "    [theme=dark] .colab-df-convert {\n",
              "      background-color: #3B4455;\n",
              "      fill: #D2E3FC;\n",
              "    }\n",
              "\n",
              "    [theme=dark] .colab-df-convert:hover {\n",
              "      background-color: #434B5C;\n",
              "      box-shadow: 0px 1px 3px 1px rgba(0, 0, 0, 0.15);\n",
              "      filter: drop-shadow(0px 1px 2px rgba(0, 0, 0, 0.3));\n",
              "      fill: #FFFFFF;\n",
              "    }\n",
              "  </style>\n",
              "\n",
              "      <script>\n",
              "        const buttonEl =\n",
              "          document.querySelector('#df-88fa4ff9-ee4d-4d3d-8388-340462ba9053 button.colab-df-convert');\n",
              "        buttonEl.style.display =\n",
              "          google.colab.kernel.accessAllowed ? 'block' : 'none';\n",
              "\n",
              "        async function convertToInteractive(key) {\n",
              "          const element = document.querySelector('#df-88fa4ff9-ee4d-4d3d-8388-340462ba9053');\n",
              "          const dataTable =\n",
              "            await google.colab.kernel.invokeFunction('convertToInteractive',\n",
              "                                                     [key], {});\n",
              "          if (!dataTable) return;\n",
              "\n",
              "          const docLinkHtml = 'Like what you see? Visit the ' +\n",
              "            '<a target=\"_blank\" href=https://colab.research.google.com/notebooks/data_table.ipynb>data table notebook</a>'\n",
              "            + ' to learn more about interactive tables.';\n",
              "          element.innerHTML = '';\n",
              "          dataTable['output_type'] = 'display_data';\n",
              "          await google.colab.output.renderOutput(dataTable, element);\n",
              "          const docLink = document.createElement('div');\n",
              "          docLink.innerHTML = docLinkHtml;\n",
              "          element.appendChild(docLink);\n",
              "        }\n",
              "      </script>\n",
              "    </div>\n",
              "  </div>\n",
              "  "
            ],
            "text/plain": [
              "         high_as     low_as\n",
              "col4   17.058076  17.016501\n",
              "col8    0.290572   0.289428\n",
              "col9    1.902686   1.895958\n",
              "col11   1.062985   1.061083"
            ]
          },
          "execution_count": 69,
          "metadata": {},
          "output_type": "execute_result"
        }
      ],
      "source": [
        "mean = wine_1.mean()\n",
        "std = wine_1.std()\n",
        "alpha = 0.05\n",
        "\n",
        "z = sps.norm.ppf((1 + alpha) / 2)\n",
        "as_table = pd.DataFrame({\n",
        "   'high_as': mean + z * std / np.sqrt(len(wine_1)),\n",
        "   'low_as' : mean - z * std / np.sqrt(len(wine_1))\n",
        "})\n",
        "as_table"
      ]
    },
    {
      "cell_type": "code",
      "execution_count": null,
      "metadata": {
        "colab": {
          "base_uri": "https://localhost:8080/",
          "height": 173
        },
        "id": "Ap7zl4p8Qv8Y",
        "outputId": "c6012f2c-5354-499c-8447-e809dccf0376"
      },
      "outputs": [
        {
          "data": {
            "text/html": [
              "\n",
              "  <div id=\"df-96b85e49-2db9-4cf4-bc20-6dc87121a967\">\n",
              "    <div class=\"colab-df-container\">\n",
              "      <div>\n",
              "<style scoped>\n",
              "    .dataframe tbody tr th:only-of-type {\n",
              "        vertical-align: middle;\n",
              "    }\n",
              "\n",
              "    .dataframe tbody tr th {\n",
              "        vertical-align: top;\n",
              "    }\n",
              "\n",
              "    .dataframe thead th {\n",
              "        text-align: right;\n",
              "    }\n",
              "</style>\n",
              "<table border=\"1\" class=\"dataframe\">\n",
              "  <thead>\n",
              "    <tr style=\"text-align: right;\">\n",
              "      <th></th>\n",
              "      <th>high_ex</th>\n",
              "      <th>low_ex</th>\n",
              "    </tr>\n",
              "  </thead>\n",
              "  <tbody>\n",
              "    <tr>\n",
              "      <th>col4</th>\n",
              "      <td>17.016231</td>\n",
              "      <td>17.058345</td>\n",
              "    </tr>\n",
              "    <tr>\n",
              "      <th>col8</th>\n",
              "      <td>0.289421</td>\n",
              "      <td>0.290579</td>\n",
              "    </tr>\n",
              "    <tr>\n",
              "      <th>col9</th>\n",
              "      <td>1.895914</td>\n",
              "      <td>1.902730</td>\n",
              "    </tr>\n",
              "    <tr>\n",
              "      <th>col11</th>\n",
              "      <td>1.061071</td>\n",
              "      <td>1.062997</td>\n",
              "    </tr>\n",
              "  </tbody>\n",
              "</table>\n",
              "</div>\n",
              "      <button class=\"colab-df-convert\" onclick=\"convertToInteractive('df-96b85e49-2db9-4cf4-bc20-6dc87121a967')\"\n",
              "              title=\"Convert this dataframe to an interactive table.\"\n",
              "              style=\"display:none;\">\n",
              "        \n",
              "  <svg xmlns=\"http://www.w3.org/2000/svg\" height=\"24px\"viewBox=\"0 0 24 24\"\n",
              "       width=\"24px\">\n",
              "    <path d=\"M0 0h24v24H0V0z\" fill=\"none\"/>\n",
              "    <path d=\"M18.56 5.44l.94 2.06.94-2.06 2.06-.94-2.06-.94-.94-2.06-.94 2.06-2.06.94zm-11 1L8.5 8.5l.94-2.06 2.06-.94-2.06-.94L8.5 2.5l-.94 2.06-2.06.94zm10 10l.94 2.06.94-2.06 2.06-.94-2.06-.94-.94-2.06-.94 2.06-2.06.94z\"/><path d=\"M17.41 7.96l-1.37-1.37c-.4-.4-.92-.59-1.43-.59-.52 0-1.04.2-1.43.59L10.3 9.45l-7.72 7.72c-.78.78-.78 2.05 0 2.83L4 21.41c.39.39.9.59 1.41.59.51 0 1.02-.2 1.41-.59l7.78-7.78 2.81-2.81c.8-.78.8-2.07 0-2.86zM5.41 20L4 18.59l7.72-7.72 1.47 1.35L5.41 20z\"/>\n",
              "  </svg>\n",
              "      </button>\n",
              "      \n",
              "  <style>\n",
              "    .colab-df-container {\n",
              "      display:flex;\n",
              "      flex-wrap:wrap;\n",
              "      gap: 12px;\n",
              "    }\n",
              "\n",
              "    .colab-df-convert {\n",
              "      background-color: #E8F0FE;\n",
              "      border: none;\n",
              "      border-radius: 50%;\n",
              "      cursor: pointer;\n",
              "      display: none;\n",
              "      fill: #1967D2;\n",
              "      height: 32px;\n",
              "      padding: 0 0 0 0;\n",
              "      width: 32px;\n",
              "    }\n",
              "\n",
              "    .colab-df-convert:hover {\n",
              "      background-color: #E2EBFA;\n",
              "      box-shadow: 0px 1px 2px rgba(60, 64, 67, 0.3), 0px 1px 3px 1px rgba(60, 64, 67, 0.15);\n",
              "      fill: #174EA6;\n",
              "    }\n",
              "\n",
              "    [theme=dark] .colab-df-convert {\n",
              "      background-color: #3B4455;\n",
              "      fill: #D2E3FC;\n",
              "    }\n",
              "\n",
              "    [theme=dark] .colab-df-convert:hover {\n",
              "      background-color: #434B5C;\n",
              "      box-shadow: 0px 1px 3px 1px rgba(0, 0, 0, 0.15);\n",
              "      filter: drop-shadow(0px 1px 2px rgba(0, 0, 0, 0.3));\n",
              "      fill: #FFFFFF;\n",
              "    }\n",
              "  </style>\n",
              "\n",
              "      <script>\n",
              "        const buttonEl =\n",
              "          document.querySelector('#df-96b85e49-2db9-4cf4-bc20-6dc87121a967 button.colab-df-convert');\n",
              "        buttonEl.style.display =\n",
              "          google.colab.kernel.accessAllowed ? 'block' : 'none';\n",
              "\n",
              "        async function convertToInteractive(key) {\n",
              "          const element = document.querySelector('#df-96b85e49-2db9-4cf4-bc20-6dc87121a967');\n",
              "          const dataTable =\n",
              "            await google.colab.kernel.invokeFunction('convertToInteractive',\n",
              "                                                     [key], {});\n",
              "          if (!dataTable) return;\n",
              "\n",
              "          const docLinkHtml = 'Like what you see? Visit the ' +\n",
              "            '<a target=\"_blank\" href=https://colab.research.google.com/notebooks/data_table.ipynb>data table notebook</a>'\n",
              "            + ' to learn more about interactive tables.';\n",
              "          element.innerHTML = '';\n",
              "          dataTable['output_type'] = 'display_data';\n",
              "          await google.colab.output.renderOutput(dataTable, element);\n",
              "          const docLink = document.createElement('div');\n",
              "          docLink.innerHTML = docLinkHtml;\n",
              "          element.appendChild(docLink);\n",
              "        }\n",
              "      </script>\n",
              "    </div>\n",
              "  </div>\n",
              "  "
            ],
            "text/plain": [
              "         high_ex     low_ex\n",
              "col4   17.016231  17.058345\n",
              "col8    0.289421   0.290579\n",
              "col9    1.895914   1.902730\n",
              "col11   1.061071   1.062997"
            ]
          },
          "execution_count": 70,
          "metadata": {},
          "output_type": "execute_result"
        }
      ],
      "source": [
        "wine_1 = wine_1.dropna(axis=0)\n",
        "mean = wine_1.mean()\n",
        "std = wine_1.std()\n",
        "alpha = 0.05 \n",
        "n = len(wine_1)\n",
        "\n",
        "\n",
        "t = sps.t.ppf((1 + alpha) / 2, n-1)\n",
        "ex_tabel = pd.DataFrame({\n",
        "    'high_ex': mean - t * std / np.sqrt(n - 1),\n",
        "    'low_ex': mean + t * std / np.sqrt(n - 1)\n",
        "})\n",
        "ex_tabel \n",
        "  \n",
        "  "
      ]
    },
    {
      "cell_type": "markdown",
      "metadata": {
        "id": "4KkmNAzY-Q89"
      },
      "source": [
        "Сделайте выводы по полученной таблице."
      ]
    },
    {
      "cell_type": "markdown",
      "metadata": {
        "id": "i8YwfuYE-Q89"
      },
      "source": [
        "**Вывод:**\n",
        "Можно заметить, что данные полученные данные почти не отличаются друг от друга. Значит, выборка достаточного размера, так как если выборка мала, то АДИ может быть не точен. Также это значит, что распределение средних близко к нормальному распределению."
      ]
    },
    {
      "cell_type": "markdown",
      "metadata": {
        "id": "zo2z2dRt-Q89"
      },
      "source": [
        "## Задача 3"
      ]
    },
    {
      "cell_type": "markdown",
      "metadata": {
        "id": "84y2dGBc-Q89"
      },
      "source": [
        "Постройте плотность стандартного **нормального распределения** и стандартного **распределения Коши**. Видим, что распределение Коши обладает более тяжелыми хвостами, нежели нормальное."
      ]
    },
    {
      "cell_type": "code",
      "execution_count": null,
      "metadata": {
        "colab": {
          "base_uri": "https://localhost:8080/",
          "height": 344
        },
        "id": "DuNhKGan-Q89",
        "outputId": "ebc26f07-a4a7-496f-974d-9d2f903465c9"
      },
      "outputs": [
        {
          "data": {
            "image/png": "[encoded data removed]",
            "text/plain": [
              "<Figure size 720x360 with 1 Axes>"
            ]
          },
          "metadata": {},
          "output_type": "display_data"
        }
      ],
      "source": [
        "grid = np.linspace(-7, 7, 1000)\n",
        "\n",
        "plt.figure(figsize=(10, 5))\n",
        "plt.plot(grid, sps.cauchy.pdf(grid), color=red, label='Коши', lw=3)\n",
        "plt.plot(grid, sps.norm.pdf(grid), color=blue, \n",
        "         label='$\\mathcal{N}(0, 1)$', lw=3)\n",
        "plt.title('Плотности распределений')\n",
        "plt.legend();"
      ]
    },
    {
      "cell_type": "markdown",
      "metadata": {
        "id": "aqRUzbUx-Q89"
      },
      "source": [
        "Сгенерируйте $10^5$ выборок размера 30 из стандартного **нормального распределения**."
      ]
    },
    {
      "cell_type": "code",
      "execution_count": null,
      "metadata": {
        "id": "ajNWDDHl-Q89"
      },
      "outputs": [],
      "source": [
        "count = 10**5\n",
        "size = 30 \n",
        "norm_arr = sps.norm.rvs(size = (count, size))"
      ]
    },
    {
      "cell_type": "markdown",
      "metadata": {
        "id": "PnziToNi-Q8-"
      },
      "source": [
        "По каждой выборке из 30 элементов посчитайте выборочные средние. Далее по ним постройте гистограмму и плотность стандартного нормального распределения. Какой вывод вы можете сделать из полученного графика?"
      ]
    },
    {
      "cell_type": "code",
      "execution_count": null,
      "metadata": {
        "colab": {
          "base_uri": "https://localhost:8080/",
          "height": 507
        },
        "id": "fpB8YrfY-Q8-",
        "outputId": "60cbd660-1b60-4908-b873-dd6ce89028d6"
      },
      "outputs": [
        {
          "data": {
            "image/png": "[encoded data removed]",
            "text/plain": [
              "<Figure size 1080x576 with 1 Axes>"
            ]
          },
          "metadata": {},
          "output_type": "display_data"
        }
      ],
      "source": [
        "mean = []\n",
        "for i in range(count):\n",
        "  mean.append(norm_arr[i].mean())\n",
        "\n",
        "plt.figure(figsize=(15,8))\n",
        "sns.set_style(\"darkgrid\")\n",
        "plt.hist(mean, color='purple', bins=100, label='Гистограмма', density=True)\n",
        "\n",
        "grid = np.linspace(-2, 2, 1000)\n",
        "pdf = sps.norm.pdf(grid)\n",
        "plt.plot(grid, pdf, color='red', label='Плотность', lw=3)\n",
        "plt.legend()\n",
        "plt.title('Нормальное распределение');"
      ]
    },
    {
      "cell_type": "markdown",
      "metadata": {
        "id": "XTK8iLHK-Q8-"
      },
      "source": [
        "**Вывод:**\n",
        "Можно сделать вывод о том, что при большом числе выборок выборочные средние значения норального распределения имеют распределение, близкое к нормальному по ЦПТ.\n",
        "Из-за этого гистограмма имеет форму колокола.\n"
      ]
    },
    {
      "cell_type": "markdown",
      "metadata": {
        "id": "lTctdMIy-Q8-"
      },
      "source": [
        "Сгенерируем $10^5$ выборок размера 30 из стандартного **распределения Коши**."
      ]
    },
    {
      "cell_type": "code",
      "execution_count": null,
      "metadata": {
        "colab": {
          "base_uri": "https://localhost:8080/"
        },
        "id": "y-3eAfkD-Q8-",
        "outputId": "3b88b122-faac-49fe-f46e-b8678383a339"
      },
      "outputs": [
        {
          "data": {
            "text/plain": [
              "(100000, 30)"
            ]
          },
          "execution_count": 9,
          "metadata": {},
          "output_type": "execute_result"
        }
      ],
      "source": [
        "count = 10**5\n",
        "size = 30 \n",
        "cauchy_arr = sps.cauchy.rvs(size=(count, size))\n",
        "cauchy_arr.shape"
      ]
    },
    {
      "cell_type": "markdown",
      "metadata": {
        "id": "tmLoZ_Ko-Q8-"
      },
      "source": [
        "Построим аналогичный график. "
      ]
    },
    {
      "cell_type": "code",
      "execution_count": null,
      "metadata": {
        "colab": {
          "base_uri": "https://localhost:8080/",
          "height": 507
        },
        "id": "3t_rEJSO-Q8-",
        "outputId": "fd0ed720-2cae-4df4-813a-43c3017c4195"
      },
      "outputs": [
        {
          "data": {
            "image/png": "[encoded data removed]",
            "text/plain": [
              "<Figure size 1080x576 with 1 Axes>"
            ]
          },
          "metadata": {},
          "output_type": "display_data"
        }
      ],
      "source": [
        "mean_c = []\n",
        "for i in range(count):\n",
        "  mean_c.append(cauchy_arr[i].mean())\n",
        "  \n",
        "sns.set_style(\"darkgrid\")\n",
        "\n",
        "plt.figure(figsize=(15,8))\n",
        "plt.hist(mean_c, color='purple', bins=100, label='Гистограмма')\n",
        "\n",
        "grid = np.linspace(-10, 10, 1000)\n",
        "pdf = sps.cauchy.pdf(grid)\n",
        "plt.plot(grid, pdf, color='red', label='Плотность', lw=3)\n",
        "plt.legend()\n",
        "plt.title('Распределение Коши')\n",
        "\n",
        "\n",
        "plt.show();"
      ]
    },
    {
      "cell_type": "markdown",
      "metadata": {
        "id": "d9b1EGYH-Q8-"
      },
      "source": [
        "Сравните графики для нормального распределения и для Коши, опишите ваше сравнение в выводе по задаче."
      ]
    },
    {
      "cell_type": "markdown",
      "metadata": {
        "id": "FXZnYk2Z-Q8-"
      },
      "source": [
        "**Вывод:**\n",
        "Такой график получается, скорее всего, по причине того, что у распределения Коши есть \"тяжелые\" хвосты, из-за которых выборочные средние очень большие.\n",
        "\n",
        "\n",
        "Выборочные средние (по норм.распр-ю) имеют распределение близкое к нормальному, для низ выполняется ЦПТ.\n",
        "В отличие от выборочных средних распределения Коши. Из-за наличия тяжелых хвостов данный график имеет ярко выраженный большой пик."
      ]
    },
    {
      "cell_type": "markdown",
      "metadata": {
        "id": "tYzmtCkX-Q9A"
      },
      "source": [
        "\n",
        "## Задача 4\n",
        "\n",
        "\n",
        "\n",
        "Предлагается изучить некоторые свойства распределения Коши с параметром сдвига $\\theta$, обладающего плотностью распределения $p_{\\theta}(x) = \\frac{1}{\\pi \\left(1 + \\left(x- \\theta\\right)^2\\right)}$.\n",
        "\n",
        "На высоте 1 метр от точки $\\theta$ находится источник $\\gamma$-излучения, \n",
        "причем направления траекторий $\\gamma$-квантов случайны, т.е. равномерно распределены по полуокружности. Тогда $X_i, i=1,...,n$ — зарегистрированные координаты точек пересечения $\\gamma$-квантов с поверхностью детекторной плоскости — образуют выборку из распределения Коши со сдвигом $\\theta$."
      ]
    },
    {
      "cell_type": "markdown",
      "metadata": {
        "id": "d2QkcJL6-Q9A"
      },
      "source": [
        "**1.** На отрезке $[-7, 7]$ постройте плотность стандартного нормального распределения и стандартного распределения Коши. Не забудьте добавить легенду."
      ]
    },
    {
      "cell_type": "markdown",
      "metadata": {
        "id": "xMGWx0-h-Q9A"
      },
      "source": [
        "**Решение:**"
      ]
    },
    {
      "cell_type": "code",
      "execution_count": null,
      "metadata": {
        "colab": {
          "base_uri": "https://localhost:8080/",
          "height": 344
        },
        "id": "wNnCULBw-Q9A",
        "outputId": "8f0126a2-9993-434d-e956-693a26937b57"
      },
      "outputs": [
        {
          "data": {
            "image/png": "[encoded data removed]",
            "text/plain": [
              "<Figure size 720x360 with 1 Axes>"
            ]
          },
          "metadata": {},
          "output_type": "display_data"
        }
      ],
      "source": [
        "grid = np.linspace(-7, 7, 1000)\n",
        "\n",
        "plt.figure(figsize=(10, 5))\n",
        "plt.plot(grid, sps.cauchy.pdf(grid), color=red, label='Коши', lw=3)\n",
        "plt.plot(grid, sps.norm.pdf(grid), color=blue, \n",
        "         label='$\\mathcal{N}(0, 1)$', lw=3)\n",
        "plt.title('Плотности распределений')\n",
        "plt.legend(); #из задания 3.1"
      ]
    },
    {
      "cell_type": "markdown",
      "metadata": {
        "id": "OOQaS6DH-Q9A"
      },
      "source": [
        "**Вывод:** У распределения Коши медленнве убывает и имеет более тяжелве хвосты"
      ]
    }
  ],
  "metadata": {
    "colab": {
      "provenance": [],
      "toc_visible": true
    },
    "kernelspec": {
      "display_name": "sber",
      "language": "python",
      "name": "python3"
    },
    "language_info": {
      "codemirror_mode": {
        "name": "ipython",
        "version": 3
      },
      "file_extension": ".py",
      "mimetype": "text/x-python",
      "name": "python",
      "nbconvert_exporter": "python",
      "pygments_lexer": "ipython3",
      "version": "3.10.4"
    },
    "orig_nbformat": 4,
    "vscode": {
      "interpreter": {
        "hash": "415525cc3f40ad8355b7c2a7d3b034c5d7bb85ff256d91eaa0aa6b53328ab0d3"
      }
    }
  },
  "nbformat": 4,
  "nbformat_minor": 0
}
