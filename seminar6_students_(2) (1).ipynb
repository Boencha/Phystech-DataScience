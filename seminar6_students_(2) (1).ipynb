{
  "cells": [
    {
      "cell_type": "code",
      "execution_count": null,
      "metadata": {
        "id": "WC1DUKMHhPyb"
      },
      "outputs": [],
      "source": [
        "import numpy as np\n",
        "import random\n",
        "import scipy.stats as sps\n",
        "import pandas as pd\n",
        "\n",
        "import matplotlib.pyplot as plt\n",
        "import seaborn as sns\n",
        "sns.set(font_scale=1.8)"
      ]
    },
    {
      "cell_type": "code",
      "execution_count": null,
      "metadata": {
        "id": "pv6fdxEFhPyf"
      },
      "outputs": [],
      "source": [
        "# зафиксируем сид для воспроизводимости генерации\n",
        "SEED = 42\n",
        "np.random.seed(SEED)\n",
        "random.seed(SEED)"
      ]
    },
    {
      "cell_type": "markdown",
      "metadata": {
        "id": "NBAMfCURhPyg"
      },
      "source": [
        "## Критерий Вальда\n",
        "\n",
        "Вы провели эксперимент и получили данные из экспоненциального распределения. "
      ]
    },
    {
      "cell_type": "code",
      "execution_count": null,
      "metadata": {
        "id": "uQ9Hb-NZhPyi"
      },
      "outputs": [],
      "source": [
        "sample = [0.11731702, 0.75253036, 0.32918642, 0.22823564, 0.04240622,\n",
        "        0.04239907, 0.01495969, 0.50280772, 0.22977054, 0.30781252,\n",
        "        0.00519983, 0.87588937, 0.44660739, 0.05967191, 0.05016975,\n",
        "        0.05065286, 0.09068843, 0.18598196, 0.14138427, 0.08605575,\n",
        "        0.23659272, 0.03755863, 0.08637888, 0.1140693 , 0.15223367,\n",
        "        0.384484  , 0.05568397, 0.18050729, 0.22437618, 0.01189096]"
      ]
    },
    {
      "cell_type": "markdown",
      "metadata": {
        "id": "D_SaZjb5hPyj"
      },
      "source": [
        "Вы хотите проверить, является ли это распределение с параметром $\\lambda=2$. Используя Критерий Вальда, сделайте вывод по данному предположению.\n",
        "\n",
        "### Двусторонняя альтернатива\n",
        "$X_1, ... X_n$ - выборка из распределения $Exp(\\theta)$.  \n",
        "Проверьте гипотезу $\\mathsf{H}_0\\colon \\theta = 2$ vs. $\\mathsf{H}_1\\colon \\theta \\neq 2$"
      ]
    },
    {
      "cell_type": "markdown",
      "metadata": {
        "id": "ackoZVkphPyj"
      },
      "source": [
        "Из лекции вы узнали про критерий Вальда.\n",
        "Для случая двусторонней альтернативы $\\mathsf{H}_1\\colon \\theta \\neq \\theta_0$ критерий имел следующий вид:\n",
        "$$\\large{S = \\left\\{ \\left|\\sqrt{n} \\frac{\\hat{\\theta} - \\theta_0}{\\hat{\\sigma}} \\right| > z_{1 - \\frac{\\alpha}{2}} \\right\\}}$$\n",
        "\n",
        "где $\\hat{\\theta}$ &mdash; асимптотически нормальная оценка $\\theta$ с асимптотической дисперсией $\\sigma^2(\\theta)$, \n",
        "$\\hat{\\sigma}$ &mdash; состоятельная оценка $\\sigma(\\theta)$.  \n",
        "\n",
        "Эквивалентный асимптотичсекий доверительный интервал для параметра $\\theta$ уровня доверия $1-\\alpha$\n",
        "$$C = \\left( \\hat{\\theta} - \\frac{z_{1-\\alpha/2} \\hat{\\sigma}}{\\sqrt{n}}, \\hat{\\theta} + \\frac{z_{1-\\alpha/2} \\hat{\\sigma}}{\\sqrt{n}}\\right)$$\n",
        "\n",
        "На первой лекции вы получали, что $\\frac{1}{\\overline{X}}$ &mdash; АНО для параметра $\\theta$ c асимптотической дисперсией $\\theta^2$\n",
        "\n",
        "**Выпишите состоятельную оценку дисперсии и статистику критерия Вальда**\n"
      ]
    },
    {
      "cell_type": "markdown",
      "metadata": {
        "id": "ga3bV-vghPyk"
      },
      "source": [
        "**Ответ:**  из предыдущих занятий $\\hat{\\sigma}^2=\\frac{1}{\\overline{X}^2}$ и статистика $\\sqrt{n}\\frac{\\hat{\\theta}-\\theta_0}{\\hat{\\sigma}}$  "
      ]
    },
    {
      "cell_type": "markdown",
      "metadata": {
        "id": "VODOLun3hPyl"
      },
      "source": [
        "Первым шагом необходимо выставить уровень значимости, поставим $\\alpha = 0.05$"
      ]
    },
    {
      "cell_type": "code",
      "execution_count": null,
      "metadata": {
        "id": "pSNPOCtzhPyl"
      },
      "outputs": [],
      "source": [
        "alpha = 0.05\n",
        "theta = 2 # тета из основной гипотезы\n",
        "n = len(sample)"
      ]
    },
    {
      "cell_type": "markdown",
      "metadata": {
        "id": "MrJqkjeShPym"
      },
      "source": [
        "Посчитаем квантиль (критическое значение)"
      ]
    },
    {
      "cell_type": "code",
      "execution_count": null,
      "metadata": {
        "id": "cm97MUb4hPym"
      },
      "outputs": [],
      "source": [
        "z = sps.norm.ppf(1-alpha/2)"
      ]
    },
    {
      "cell_type": "markdown",
      "metadata": {
        "id": "pJGPW2ulhPyn"
      },
      "source": [
        "Посчитайте статистику, которую будете сравнивать с критическим значением. Выведите значение полученной статистики."
      ]
    },
    {
      "cell_type": "code",
      "execution_count": null,
      "metadata": {
        "colab": {
          "base_uri": "https://localhost:8080/"
        },
        "id": "QURBApaZhPyn",
        "outputId": "3c9ad447-3c0b-4e79-c73c-efb713a18e90"
      },
      "outputs": [
        {
          "output_type": "execute_result",
          "data": {
            "text/plain": [
              "3.2704505437191247"
            ]
          },
          "metadata": {},
          "execution_count": 19
        }
      ],
      "source": [
        "statistic = np.abs(np.sqrt(n)*(1/np.mean(sample)-theta)/(1/np.mean(sample)))\n",
        "statistic"
      ]
    },
    {
      "cell_type": "markdown",
      "metadata": {
        "id": "tUVgD9WnhPyn"
      },
      "source": [
        "Сравним модуль статистики с критическим значением"
      ]
    },
    {
      "cell_type": "code",
      "execution_count": null,
      "metadata": {
        "colab": {
          "base_uri": "https://localhost:8080/"
        },
        "id": "Sp8JUUc3hPyn",
        "outputId": "f7432599-ce8e-49ce-9de5-d7cfbdae9a87"
      },
      "outputs": [
        {
          "output_type": "execute_result",
          "data": {
            "text/plain": [
              "True"
            ]
          },
          "metadata": {},
          "execution_count": 20
        }
      ],
      "source": [
        "np.absolute(statistic) > z"
      ]
    },
    {
      "cell_type": "markdown",
      "metadata": {
        "id": "nSsknlWShPyo"
      },
      "source": [
        "**Какой вывод можно сделать?**"
      ]
    },
    {
      "cell_type": "markdown",
      "metadata": {
        "id": "Fa0M-8-EhPyo"
      },
      "source": [
        "**Вывод:** из этого следует, что мы можем отвергнуть нулевую гипотезу с уровнем доверия 0.95."
      ]
    },
    {
      "cell_type": "markdown",
      "metadata": {
        "id": "5wC96a-PhPyo"
      },
      "source": [
        "Посчитайте доверительный интервал"
      ]
    },
    {
      "cell_type": "code",
      "execution_count": null,
      "metadata": {
        "colab": {
          "base_uri": "https://localhost:8080/"
        },
        "id": "ZieLOBUHhPyo",
        "outputId": "564ecfc1-45f5-4aae-9e49-5e59b4d2598e"
      },
      "outputs": [
        {
          "output_type": "execute_result",
          "data": {
            "text/plain": [
              "(3.187693843343649, 6.740324187101983)"
            ]
          },
          "metadata": {},
          "execution_count": 22
        }
      ],
      "source": []
    },
    {
      "cell_type": "markdown",
      "metadata": {
        "id": "WfNbOrJchPyp"
      },
      "source": [
        "**Какой вывод можно сделать?**"
      ]
    },
    {
      "cell_type": "markdown",
      "metadata": {
        "id": "TQKXdtu_hPyp"
      },
      "source": [
        "**Вывод:** данный доверительный интервал, показывает, что параметр лежит в данном интревале с вероятностью 95%. Т.е. параметр равен 2 с вероятностью не более чем 5%."
      ]
    },
    {
      "cell_type": "markdown",
      "metadata": {
        "id": "D3ecgnAAhPyp"
      },
      "source": [
        "На лекции вы узнали про p-value &mdash; это вероятность получить при справедливости $H_0$ такое значение статистики $t = T(x)$ или еще более экстремальное, то есть в случае двустороннего критерия\n",
        "$$p(x) = \\mathsf{P}_0(T(X) \\geq|t|) + \\mathsf{P}_0(T(X) \\leq -|t|)$$\n",
        "Посчитайте p-value. Для этого можно использовать функции из библиотеки `scipy.stats`."
      ]
    },
    {
      "cell_type": "code",
      "execution_count": null,
      "metadata": {
        "colab": {
          "base_uri": "https://localhost:8080/"
        },
        "id": "B8RVo3c7hPyp",
        "outputId": "649db3db-c2b9-40b6-bf25-ca20c04affc5"
      },
      "outputs": [
        {
          "output_type": "execute_result",
          "data": {
            "text/plain": [
              "6.905273592967502e-07"
            ]
          },
          "metadata": {},
          "execution_count": 24
        }
      ],
      "source": [
        "p_value = 2 * sps.norm.sf(np.abs(1/np.mean(sample)))\n",
        "p_value"
      ]
    },
    {
      "cell_type": "markdown",
      "metadata": {
        "id": "98DP14WYhPyq"
      },
      "source": [
        "Оформите подсчет статистики и  p-value в виде одной функции."
      ]
    },
    {
      "cell_type": "code",
      "execution_count": null,
      "metadata": {
        "id": "invl1jdchPyq"
      },
      "outputs": [],
      "source": [
        "def wald_test_two_sided(sample, theta, estimation_theta, estimation_sigma):\n",
        "    \"\"\"\n",
        "    param sample: реализация выборки\n",
        "    param theta: истинное значение параметра\n",
        "    param estimation_theta: оценка параметра\n",
        "    param estimation_sigma: оценка асимптотической дисперсии оценки estimation_sigma\n",
        "\n",
        "    return statistic\n",
        "    return p_value\n",
        "    return conf_int - доверительный интервал\n",
        "    \"\"\"\n",
        "    alpha = 0.05\n",
        "    n = len(sample)\n",
        "    z = sps.norm.ppf(1-alpha/2)\n",
        "    statistic = np.abs(np.sqrt(n)*(estimation_theta-theta)/(estimation_sigma))\n",
        "    p_value = 2 * sps.norm.sf(np.abs(estimation_theta))\n",
        "    c_left = estimation_theta - z*estimation_sigma/np.sqrt(n)\n",
        "    c_right = estimation_theta + z*estimation_sigma/np.sqrt(n)\n",
        "    return statistic, p_value, (c_left, c_right)"
      ]
    },
    {
      "cell_type": "markdown",
      "metadata": {
        "id": "bIUt6GcdhPyq"
      },
      "source": [
        "### Правосторонняя и левосторонняя альтернативы"
      ]
    },
    {
      "cell_type": "code",
      "execution_count": null,
      "metadata": {
        "id": "MUSQHPtyhPyq"
      },
      "outputs": [],
      "source": [
        "def wald_test(sample, theta, estimation_theta, estimation_sigma, alternative='two_sided'):\n",
        "    \"\"\"\n",
        "    param sample: реализация выборки\n",
        "    param theta: истинное значение параметра\n",
        "    param estimation_theta: оценка параметра\n",
        "    param estimation_sigma: оценка асимптотической дисперсии оценки estimation_sigma\n",
        "    param alternative: вид альтернативной гипотезы, может принимать одно из значений 'two_sided', 'less', 'greater'\n",
        "\n",
        "    return statistic\n",
        "    return p_value\n",
        "    return conf_int - доверительный интервал\n",
        "    \"\"\"\n",
        "\n",
        "    <...>"
      ]
    },
    {
      "cell_type": "markdown",
      "metadata": {
        "id": "tCHUBKVShPyr"
      },
      "source": [
        "Проверьте гипотезы с провосторонней и левосторонней альтернативой"
      ]
    },
    {
      "cell_type": "code",
      "execution_count": null,
      "metadata": {
        "id": "NEpgiTNGhPyr"
      },
      "outputs": [],
      "source": [
        "<...>"
      ]
    },
    {
      "cell_type": "markdown",
      "metadata": {
        "id": "X2mO8sTchPyr"
      },
      "source": [
        "**Какие выводы вы можете сделать?**"
      ]
    },
    {
      "cell_type": "markdown",
      "metadata": {
        "id": "yuB98SbvhPyr"
      },
      "source": [
        "**Вывод:** <...>"
      ]
    },
    {
      "cell_type": "markdown",
      "metadata": {
        "id": "FgPJtEGOhPyr"
      },
      "source": [
        "Теперь посмотрим на выборку меньших размеров"
      ]
    },
    {
      "cell_type": "code",
      "execution_count": null,
      "metadata": {
        "id": "m6MkuN3uhPyr"
      },
      "outputs": [],
      "source": [
        "sample_cut = [0.11731702, 0.75253036, 0.32918642, 0.22823564, 0.04240622,\n",
        "        0.04239907, 0.01495969, 0.50280772, 0.22977054, 0.30781252]"
      ]
    },
    {
      "cell_type": "markdown",
      "metadata": {
        "id": "m67qGe5ahPys"
      },
      "source": [
        "Выведите статистику, p-value и доверительный интервал. Какой вывод можно сделать из полученных значений?"
      ]
    },
    {
      "cell_type": "code",
      "execution_count": null,
      "metadata": {
        "id": "iY_psnPihPys"
      },
      "outputs": [],
      "source": [
        "<...>"
      ]
    },
    {
      "cell_type": "markdown",
      "metadata": {
        "id": "KTBmxLvChPys"
      },
      "source": [
        "**Вывод:** <...>"
      ]
    },
    {
      "cell_type": "markdown",
      "metadata": {
        "id": "joF_F22phPys"
      },
      "source": [
        "---\n",
        "# Реальный уровень значимости\n",
        "\n",
        "Напомним, что реальным уровнем значимости критерия $\\mathsf{H}_0 \\colon \\theta = \\theta_0$ vs. $\\mathsf{H}_1 \\colon \\theta \\neq \\theta_0$ называется $\\mathsf{P}_{\\theta_0}(X \\in S)$. Поскольку критерий Вальда асимптотический, при фиксированных $n$ он может отличаться от $\\alpha$. В таком случае бывает полезно экспериментально определить реальный уровень значимости с помощью метода Монте-Карло."
      ]
    },
    {
      "cell_type": "markdown",
      "metadata": {
        "id": "e0MDbQ22hPyt"
      },
      "source": [
        "С помощью статистических методов можно проверить человека на наличие экстрасенсорных способностей: предложим ему угадать последовательность, состоящую из двух цветов, длины 100. \n",
        "\n",
        "Сформулируем задачу на статистическом языке: \n",
        "\n",
        "$X_1...X_{100}$ &mdash; выборка из распределения $Bern(p)$\n",
        "\n",
        "$p=0.5$ отвечает случайному угадыванию.\n",
        "\n",
        "Cгенерируйте эту выборку."
      ]
    },
    {
      "cell_type": "code",
      "execution_count": null,
      "metadata": {
        "id": "nKRSEKulhPyt"
      },
      "outputs": [],
      "source": [
        "sample_size = 100\n",
        "sample = <...>"
      ]
    },
    {
      "cell_type": "markdown",
      "metadata": {
        "id": "JuMJwNmkhPyt"
      },
      "source": [
        "Проверьте гипотезу: $\\mathsf{H}_0 \\colon p=0.5$ vs $\\mathsf{H}_1 \\colon p \\neq 0.5$. Используйте критерий Вальда.\n",
        "\n",
        "В качестве асимптотически нормальной оценки можно использовать $\\widehat{p} = \\overline{X}$ с асимптотической дисперсией $\\sigma^2(p) = p (1 - p)$.\n",
        "\n",
        "**Выпишите состоятельную оценку дисперсии и статистику критерия Вальда**\n"
      ]
    },
    {
      "cell_type": "markdown",
      "metadata": {
        "id": "SzfjneH8hPyt"
      },
      "source": [
        "**Ответ:** <...>"
      ]
    },
    {
      "cell_type": "markdown",
      "metadata": {
        "id": "4pHgNtoOhPyt"
      },
      "source": [
        "Примените критерий, используйте реализованную вами функцию."
      ]
    },
    {
      "cell_type": "code",
      "execution_count": null,
      "metadata": {
        "id": "TMWjwOdAhPyt"
      },
      "outputs": [],
      "source": [
        "alpha = 0.05\n",
        "theta = 0.5\n",
        "estimation_theta = <...>\n",
        "estimation_sigma = <...>\n",
        "\n",
        "wald_test(sample, theta, estimation_theta, estimation_sigma)"
      ]
    },
    {
      "cell_type": "markdown",
      "metadata": {
        "id": "Rv9lydwahPyu"
      },
      "source": [
        "**Какой вывод вы можете сделать?**"
      ]
    },
    {
      "cell_type": "markdown",
      "metadata": {
        "id": "ct1hQFVuhPyu"
      },
      "source": [
        "**Ответ:** <...>"
      ]
    },
    {
      "cell_type": "markdown",
      "metadata": {
        "id": "Z34pXRLxhPyu"
      },
      "source": [
        "Проведи подобный эксперимент 1000 раз и посчитайте долю случаев отвержения гипотезы для определения реального уровня значимости критерия. \n",
        "\n",
        "*Замечание:* поскольку погрешность определения реального уровня значимости оценивается как $\\frac{1}{\\sqrt{k}}$, где $k$ - количество экспериментов, при 1000 повторений точность определения значения составляет $\\approx 0.03$ и не является высокой. Такое значение выбрано для скорости подсчета на семинаре, но в реальных экспериментах его стоит брать намного больше."
      ]
    },
    {
      "cell_type": "code",
      "execution_count": null,
      "metadata": {
        "id": "_A4-rNikhPyu"
      },
      "outputs": [],
      "source": [
        "samples_count = 1000\n",
        "sample = <...>"
      ]
    },
    {
      "cell_type": "code",
      "execution_count": null,
      "metadata": {
        "id": "myNgIFXUhPyu"
      },
      "outputs": [],
      "source": [
        "estimation_theta = <...>\n",
        "estimation_sigma = <...>\n",
        "\n",
        "counter = 0\n",
        "for i in range(samples_count):\n",
        "    _, p_value, conf_int = wald_test(sample[i], theta, estimation_theta[i], estimation_sigma[i])\n",
        "    is_rejected = <...>\n",
        "    if is_rejected:\n",
        "        counter += 1\n",
        "\n",
        "counter/samples_count"
      ]
    },
    {
      "cell_type": "markdown",
      "metadata": {
        "id": "uCIhv_A5hPyv"
      },
      "source": [
        "**Вывод:** <...>"
      ]
    },
    {
      "cell_type": "markdown",
      "metadata": {
        "id": "HtWEzjLuhPyv"
      },
      "source": []
    }
  ],
  "metadata": {
    "kernelspec": {
      "display_name": "Python 3 (ipykernel)",
      "language": "python",
      "name": "python3"
    },
    "language_info": {
      "codemirror_mode": {
        "name": "ipython",
        "version": 3
      },
      "file_extension": ".py",
      "mimetype": "text/x-python",
      "name": "python",
      "nbconvert_exporter": "python",
      "pygments_lexer": "ipython3",
      "version": "3.9.12"
    },
    "colab": {
      "provenance": []
    }
  },
  "nbformat": 4,
  "nbformat_minor": 0
}