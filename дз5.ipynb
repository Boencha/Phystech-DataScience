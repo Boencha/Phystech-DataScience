{
  "cells": [
    {
      "cell_type": "markdown",
      "metadata": {
        "id": "nS2sPIXu13u4"
      },
      "source": [
        "# <a href=\"https://miptstats.github.io/courses/ad_mipt.html\">Phystech@DataScience</a>\n",
        "## Домашнее задание 5\n",
        "\n",
        "**Правила, <font color=\"red\">прочитайте внимательно</font>:**\n",
        "\n",
        "* Выполненную работу нужно отправить телеграм-боту `@miptstats_pds_bot`. Для начала работы с ботом каждый раз отправляйте `/start`. **Работы, присланные иным способом, не принимаются.**\n",
        "* Дедлайн см. в боте. После дедлайна работы не принимаются кроме случаев наличия уважительной причины.\n",
        "* Прислать нужно ноутбук в формате `ipynb`.\n",
        "* Выполнять задание необходимо полностью самостоятельно. **При обнаружении списывания все участники списывания будут сдавать устный зачет.**\n",
        "* Решения, размещенные на каких-либо интернет-ресурсах, не принимаются. Кроме того, публикация решения в открытом доступе может быть приравнена к предоставлении возможности списать.\n",
        "* Для выполнения задания используйте этот ноутбук в качестве основы, ничего не удаляя из него. Можно добавлять необходимое количество ячеек.\n",
        "* Комментарии к решению пишите в markdown-ячейках.\n",
        "* Выполнение задания (ход решения, выводы и пр.) должно быть осуществлено на русском языке.\n",
        "* Если код будет не понятен проверяющему, оценка может быть снижена.\n",
        "* Никакой код из данного задания при проверке запускаться не будет. *Если код студента не выполнен, недописан и т.д., то он не оценивается.*\n",
        "* **Код из рассказанных на занятиях ноутбуков можно использовать без ограничений.**\n",
        "\n",
        "**Правила оформления теоретических задач:**\n",
        "\n",
        "* Решения необходимо прислать одним из следующих способов:\n",
        "  * фотографией в правильной ориентации, где все четко видно, а почерк разборчив,\n",
        "    * отправив ее как файл боту вместе с ноутбуком *или*\n",
        "    * вставив ее в ноутбук посредством `Edit -> Insert Image` (<font color=\"red\">фото, вставленные ссылкой, не принимаются</font>);\n",
        "  * в виде $\\LaTeX$ в markdown-ячейках.\n",
        "* Решения не проверяются, если какое-то требование не выполнено. Особенно внимательно все проверьте в случае выбора второго пункта (вставки фото в ноутбук). <font color=\"red\"><b>Неправильно вставленные фотографии могут не передаться при отправке.</b></font> Для проверки попробуйте переместить `ipynb` в другую папку и открыть его там.\n",
        "* В решениях поясняйте, чем вы пользуетесь, хотя бы кратко. Например, если пользуетесь независимостью, то достаточно подписи вида \"*X и Y незав.*\"\n",
        "* Решение, в котором есть только ответ, и отсутствуют вычисления, оценивается в 0 баллов.\n",
        "\n",
        "-----"
      ]
    },
    {
      "cell_type": "code",
      "execution_count": null,
      "metadata": {
        "ExecuteTime": {
          "end_time": "2023-03-20T19:12:45.320286Z",
          "start_time": "2023-03-20T19:12:43.619275Z"
        },
        "id": "PZz3QM6KqEEm"
      },
      "outputs": [],
      "source": [
        "import pandas as pd\n",
        "import numpy as np\n",
        "import scipy.stats as sps\n",
        "import matplotlib.pyplot as plt\n",
        "import seaborn as sns\n",
        "\n",
        "sns.set_style(\"whitegrid\")"
      ]
    },
    {
      "cell_type": "markdown",
      "metadata": {
        "id": "ZuoL5FOO13u9"
      },
      "source": [
        "\n",
        "### Задача 1.\n",
        "\n",
        "**1.** Найдите оценку параметра $\\theta$ методом максимального правдоподобия по выборке размера $n$ из распределения $\\mathcal{N}(a,\\sigma^2)$ для трех различных случаев\n",
        "- $\\theta = (a, \\sigma^2)$;\n",
        "- $\\theta = \\sigma^2$, причем $a$ известно;\n",
        "- $\\theta = a$, причем $\\sigma^2$ известно.\n",
        "\n",
        "Для последнего случая посчитайте асимптотическую дисперсию оценки по теореме из лекции.\n",
        "\n",
        "**2.** Найдите оценку параметра $\\theta$ методом максимального правдоподобия по выборке размера $n$ из распределения $\\mathrm{Pois}(\\theta)$. Посчитайте асимптотическую дисперсию по теореме из лекции, если оценка является асимптотически нормальной."
      ]
    },
    {
      "cell_type": "markdown",
      "metadata": {
        "id": "_LYRVO-Q13u9"
      },
      "source": [
        "---\n",
        "### Задача 2.\n",
        "Пусть $X_1,...,X_n$ &mdash;  выборка из категориального распределения, то есть $\\mathsf{P}_\\theta(X_1 = j) = \\theta_j$ для $j \\in \\{1, ..., k\\}$, причем $\\theta = (\\theta_1, ..., \\theta_k), \\theta_j \\geqslant 0$ и $\\theta_1 + ... + \\theta_k = 1$. Найдите оценку максимального правдоподобия параметра $\\theta$ и проверьте ее на состоятельность."
      ]
    },
    {
      "cell_type": "markdown",
      "metadata": {
        "id": "79RYJExflty3"
      },
      "source": [
        "---\n",
        "### Задача 3."
      ]
    },
    {
      "cell_type": "markdown",
      "metadata": {
        "id": "xZCTfzO013u-"
      },
      "source": [
        "\n",
        "**Профиль Физика**\n",
        "\n",
        "Скачайте <a target=\"_blank\" href=\"https://www.kaggle.com/datasets/fedesoriano/cern-electron-collision-data\">данные</a> столкновениях частиц и оставьте следующие признаки:\n",
        "* `E1`, `E2` &mdash; полная энергия электронов (ГэВ);\n",
        "* `M` &mdash; инвариантная масса двух электронов (ГэВ).\n",
        "\n",
        "**Профиль Биология**\n",
        "\n",
        "Скачайте <a target=\"_blank\" href=\"https://www.kaggle.com/datasets/ruslankl/mice-protein-expression\">данные</a> экспрессии белков у белых мышей и оставьте следующие белки для анализа:\n",
        "* `ITSN1_N`\n",
        "* `DYRK1A_N` \n",
        "* `ELK_N`\n",
        "\n",
        "**Профиль Химия**\n",
        "\n",
        "Выберите любой вариант выше.\n",
        "\n",
        "---\n",
        "\n",
        "\n",
        "**1.** Постройте для каждого из признаков гистограммы. Что можно сказать о характере распределения?\n"
      ]
    },
    {
      "cell_type": "code",
      "execution_count": null,
      "metadata": {
        "colab": {
          "base_uri": "https://localhost:8080/",
          "height": 204
        },
        "id": "S3vJ_qrd13u-",
        "outputId": "ed7ff097-89ac-46c7-88bf-e5cab04d54c1"
      },
      "outputs": [
        {
          "data": {
            "text/html": [
              "\n",
              "  <div id=\"df-157fe858-db4a-4e57-8e4e-cc25ef821542\">\n",
              "    <div class=\"colab-df-container\">\n",
              "      <div>\n",
              "<style scoped>\n",
              "    .dataframe tbody tr th:only-of-type {\n",
              "        vertical-align: middle;\n",
              "    }\n",
              "\n",
              "    .dataframe tbody tr th {\n",
              "        vertical-align: top;\n",
              "    }\n",
              "\n",
              "    .dataframe thead th {\n",
              "        text-align: right;\n",
              "    }\n",
              "</style>\n",
              "<table border=\"1\" class=\"dataframe\">\n",
              "  <thead>\n",
              "    <tr style=\"text-align: right;\">\n",
              "      <th></th>\n",
              "      <th>ITSN1_N</th>\n",
              "      <th>DYRK1A_N</th>\n",
              "      <th>ELK_N</th>\n",
              "    </tr>\n",
              "  </thead>\n",
              "  <tbody>\n",
              "    <tr>\n",
              "      <th>0</th>\n",
              "      <td>0.747193</td>\n",
              "      <td>0.503644</td>\n",
              "      <td>1.866358</td>\n",
              "    </tr>\n",
              "    <tr>\n",
              "      <th>1</th>\n",
              "      <td>0.689064</td>\n",
              "      <td>0.514617</td>\n",
              "      <td>1.761047</td>\n",
              "    </tr>\n",
              "    <tr>\n",
              "      <th>2</th>\n",
              "      <td>0.730247</td>\n",
              "      <td>0.509183</td>\n",
              "      <td>1.765544</td>\n",
              "    </tr>\n",
              "    <tr>\n",
              "      <th>3</th>\n",
              "      <td>0.617076</td>\n",
              "      <td>0.442107</td>\n",
              "      <td>1.286277</td>\n",
              "    </tr>\n",
              "    <tr>\n",
              "      <th>4</th>\n",
              "      <td>0.617430</td>\n",
              "      <td>0.434940</td>\n",
              "      <td>1.324695</td>\n",
              "    </tr>\n",
              "  </tbody>\n",
              "</table>\n",
              "</div>\n",
              "      <button class=\"colab-df-convert\" onclick=\"convertToInteractive('df-157fe858-db4a-4e57-8e4e-cc25ef821542')\"\n",
              "              title=\"Convert this dataframe to an interactive table.\"\n",
              "              style=\"display:none;\">\n",
              "        \n",
              "  <svg xmlns=\"http://www.w3.org/2000/svg\" height=\"24px\"viewBox=\"0 0 24 24\"\n",
              "       width=\"24px\">\n",
              "    <path d=\"M0 0h24v24H0V0z\" fill=\"none\"/>\n",
              "    <path d=\"M18.56 5.44l.94 2.06.94-2.06 2.06-.94-2.06-.94-.94-2.06-.94 2.06-2.06.94zm-11 1L8.5 8.5l.94-2.06 2.06-.94-2.06-.94L8.5 2.5l-.94 2.06-2.06.94zm10 10l.94 2.06.94-2.06 2.06-.94-2.06-.94-.94-2.06-.94 2.06-2.06.94z\"/><path d=\"M17.41 7.96l-1.37-1.37c-.4-.4-.92-.59-1.43-.59-.52 0-1.04.2-1.43.59L10.3 9.45l-7.72 7.72c-.78.78-.78 2.05 0 2.83L4 21.41c.39.39.9.59 1.41.59.51 0 1.02-.2 1.41-.59l7.78-7.78 2.81-2.81c.8-.78.8-2.07 0-2.86zM5.41 20L4 18.59l7.72-7.72 1.47 1.35L5.41 20z\"/>\n",
              "  </svg>\n",
              "      </button>\n",
              "      \n",
              "  <style>\n",
              "    .colab-df-container {\n",
              "      display:flex;\n",
              "      flex-wrap:wrap;\n",
              "      gap: 12px;\n",
              "    }\n",
              "\n",
              "    .colab-df-convert {\n",
              "      background-color: #E8F0FE;\n",
              "      border: none;\n",
              "      border-radius: 50%;\n",
              "      cursor: pointer;\n",
              "      display: none;\n",
              "      fill: #1967D2;\n",
              "      height: 32px;\n",
              "      padding: 0 0 0 0;\n",
              "      width: 32px;\n",
              "    }\n",
              "\n",
              "    .colab-df-convert:hover {\n",
              "      background-color: #E2EBFA;\n",
              "      box-shadow: 0px 1px 2px rgba(60, 64, 67, 0.3), 0px 1px 3px 1px rgba(60, 64, 67, 0.15);\n",
              "      fill: #174EA6;\n",
              "    }\n",
              "\n",
              "    [theme=dark] .colab-df-convert {\n",
              "      background-color: #3B4455;\n",
              "      fill: #D2E3FC;\n",
              "    }\n",
              "\n",
              "    [theme=dark] .colab-df-convert:hover {\n",
              "      background-color: #434B5C;\n",
              "      box-shadow: 0px 1px 3px 1px rgba(0, 0, 0, 0.15);\n",
              "      filter: drop-shadow(0px 1px 2px rgba(0, 0, 0, 0.3));\n",
              "      fill: #FFFFFF;\n",
              "    }\n",
              "  </style>\n",
              "\n",
              "      <script>\n",
              "        const buttonEl =\n",
              "          document.querySelector('#df-157fe858-db4a-4e57-8e4e-cc25ef821542 button.colab-df-convert');\n",
              "        buttonEl.style.display =\n",
              "          google.colab.kernel.accessAllowed ? 'block' : 'none';\n",
              "\n",
              "        async function convertToInteractive(key) {\n",
              "          const element = document.querySelector('#df-157fe858-db4a-4e57-8e4e-cc25ef821542');\n",
              "          const dataTable =\n",
              "            await google.colab.kernel.invokeFunction('convertToInteractive',\n",
              "                                                     [key], {});\n",
              "          if (!dataTable) return;\n",
              "\n",
              "          const docLinkHtml = 'Like what you see? Visit the ' +\n",
              "            '<a target=\"_blank\" href=https://colab.research.google.com/notebooks/data_table.ipynb>data table notebook</a>'\n",
              "            + ' to learn more about interactive tables.';\n",
              "          element.innerHTML = '';\n",
              "          dataTable['output_type'] = 'display_data';\n",
              "          await google.colab.output.renderOutput(dataTable, element);\n",
              "          const docLink = document.createElement('div');\n",
              "          docLink.innerHTML = docLinkHtml;\n",
              "          element.appendChild(docLink);\n",
              "        }\n",
              "      </script>\n",
              "    </div>\n",
              "  </div>\n",
              "  "
            ],
            "text/plain": [
              "    ITSN1_N  DYRK1A_N     ELK_N\n",
              "0  0.747193  0.503644  1.866358\n",
              "1  0.689064  0.514617  1.761047\n",
              "2  0.730247  0.509183  1.765544\n",
              "3  0.617076  0.442107  1.286277\n",
              "4  0.617430  0.434940  1.324695"
            ]
          },
          "execution_count": 7,
          "metadata": {},
          "output_type": "execute_result"
        }
      ],
      "source": [
        "data = pd.read_csv('Data_Cortex_Nuclear.csv')\n",
        "data = data[['ITSN1_N', 'DYRK1A_N', 'ELK_N']]\n",
        "data.head()\n"
      ]
    },
    {
      "cell_type": "code",
      "execution_count": null,
      "metadata": {
        "colab": {
          "base_uri": "https://localhost:8080/",
          "height": 1000
        },
        "id": "gezJORizE2cp",
        "outputId": "6cc3d257-bcf6-48e6-aade-4b7dde49e247"
      },
      "outputs": [
        {
          "data": {
            "image/png": "[encoded data removed]",
            "text/plain": [
              "<Figure size 1080x432 with 1 Axes>"
            ]
          },
          "metadata": {},
          "output_type": "display_data"
        },
        {
          "data": {
            "image/png": "[encoded data removed]",
            "text/plain": [
              "<Figure size 1080x432 with 1 Axes>"
            ]
          },
          "metadata": {},
          "output_type": "display_data"
        },
        {
          "data": {
            "image/png": "[encoded data removed]",
            "text/plain": [
              "<Figure size 1080x432 with 1 Axes>"
            ]
          },
          "metadata": {},
          "output_type": "display_data"
        }
      ],
      "source": [
        "columns = ['ITSN1_N', 'DYRK1A_N', 'ELK_N']\n",
        "for i, column in enumerate(columns):\n",
        "    plt.figure(figsize=(15, 6))\n",
        "\n",
        "    plt.hist(data[column], bins=20)\n",
        "    plt.title(column + ' distribution')"
      ]
    },
    {
      "cell_type": "markdown",
      "metadata": {
        "id": "oLoB5PDr13u_"
      },
      "source": [
        "**Ответ:**\n",
        "Используя только гистограмму, сложно точно оценить характер распределения. Но все три распределения выглядят похожими на колокол, поэтому, скорее всего, это нормальное распределение во всех трех случаях.\n",
        "\n",
        "\n",
        "\n",
        "Также на графиках видны выбросы, которые тоже снижают информативность графиков.\n"
      ]
    },
    {
      "cell_type": "markdown",
      "metadata": {
        "id": "7eqEAtUS13u_"
      },
      "source": [
        "**2.** Пусть есть выборка $X_1, ..., X_n$. Опишите процедуру бутстрепа построения доверительного интервала для величины $\\theta = \\mathsf{E} X_1$. Рассмотрите три типа  бутстрепных доверительных интервалов, выпишите формулу для каждого из них."
      ]
    },
    {
      "cell_type": "markdown",
      "metadata": {
        "id": "0VhlXwIA13vA"
      },
      "source": [
        "**Описание:**"
      ]
    },
    {
      "cell_type": "markdown",
      "metadata": {
        "id": "eg77CCCU13vA"
      },
      "source": [
        "Процедура бутстрепа для построения доверительного интервала для величины $\\theta = \\mathsf{E} X_1$ состоит из следующих шагов:\n",
        "\n",
        "1.Сформировать выборку с возвращением из исходной выборки размера $n$. Размер бутстрепной выборки **всегда тот же**, что и у исходной. \n",
        "\n",
        "2.Процедуру генерации нужно выполнить $B$ раз (многократно).\n",
        "\n",
        "\n",
        "3.Для каждой бутстреп-выборки вычислить значение статистики $\\hat{\\theta}^*_b$ ($b$ обозначает номер бутстреп-выборки). Получаем выборку значений $\\hat{\\theta}^*_1$, $\\hat{\\theta}^*_2$, ... , $\\hat{\\theta}^*_b$\n",
        "\n",
        "\n",
        "4. Затем полученную выборку использовать для аппроксимации значения оценки (бустпрепной оценки). Для построения доверительных интервалов нам нужна бустрепная оценка дисперсии(выборочная дисперсия): \n",
        "\n",
        "\n",
        "$$\\hat{v}^*_{boot}= {\\frac{1}{B} \\sum_{i=1}^{B}(\\hat{\\theta}^{*}_i)^2}-({\\frac{1}{B} \\sum_{i=1}^{B}\\hat{\\theta}^{*}_i})^2$$\n",
        "\n",
        "\n",
        "**Бустрепные ДИ:**\n",
        "\n",
        "1. **Нормальный интервал**.  Он основан на предположении, что выборочное среднее имеет нормальное распределение. Нормальный бутстрепный интервал для уровня доверия $1 + \\alpha$ имеет вид:\n",
        "$$\\left(\\hat{\\theta} - z_{(1+\\alpha)/2} \\sqrt{\\hat{v}_{\\text{boot}}} , \\hat{\\theta} + z_{(1+\\alpha)/2} \\sqrt{\\hat{v}_{\\text{boot}}}\\right)$$,\n",
        "$\\hat{\\theta}$ - выборочное среднее, $\\sqrt{\\hat{v}_{\\text{boot}}}$ - бустрепная оценка дисперсии\\, $z_{1+\\alpha/2}$-квантиль стандартного нормального распределения.\n",
        "\n",
        "2. **Центральный интервал**\n",
        "$$\\left(2\\hat{\\theta} - \\hat{\\theta}^{*}_{\\lceil B({(1+\\alpha)/2})  \\rceil}, 2\\hat{\\theta} - \\hat{\\theta}^{*}_{\\lfloor B({(1-\\alpha)/2})  \\rfloor}\\right)$$\n",
        "\n",
        "где $\\hat{\\theta}$ - оценка параметра на исходной выборке,\n",
        " \n",
        "$\\hat{\\theta}^{*}_1$, ..., $\\hat{\\theta}^{*}_B$ - оценки по бутстрепным выборкам\n",
        "\n",
        "3. **Квантильный интервал**\n",
        "$$\\left(\\hat{\\theta}^{*}_{\\lfloor B({(1-\\alpha)/2})  \\rfloor}, \\hat{\\theta}^{*}_{\\lceil B({(1+\\alpha)/2})  \\rceil}\\right)$$\n",
        "\n",
        "где $\\hat{\\theta}$ - некоторая оценка ${\\theta}$, в нашем случаем мат.ож,\n",
        " \n",
        "$\\hat{\\theta}^{*}_1$, ..., $\\hat{\\theta}^{*}_B$ - оценки по бутстрепным выборкам"
      ]
    },
    {
      "cell_type": "markdown",
      "metadata": {
        "id": "AETYTpRM13vA"
      },
      "source": [
        "**3.** Реализуйте функцию вычисления выборки оценок $\\theta^*_1, \\ldots \\theta^*_B$ для оценки $\\widehat \\theta$ методом бутстрепа. Функция должна принимать на вход выборку и количество бутстрепных выборок $B$. "
      ]
    },
    {
      "cell_type": "code",
      "execution_count": null,
      "metadata": {
        "id": "dls9c2VR13vA"
      },
      "outputs": [],
      "source": [
        "def estimator(sample):\n",
        "    '''\n",
        "    Делает необходимые преобразования с выборкой (выполняет подсчет статистики).\n",
        "    Используется в функции bootstrap для вычисления оценок.\n",
        "    \n",
        "    :param sample: массив с числами\n",
        "    :return: оценка, посчитанная по выборке\n",
        "    '''\n",
        "    \n",
        "    return np.mean(sample)\n",
        "\n",
        "\n",
        "def bootstrap(sample, B=100_000):\n",
        "    '''\n",
        "    Реализует процедуру бутстрепа.\n",
        "    \n",
        "    :param sample: исходная выборка, по которой будут вычисляться бутстрепные оценки\n",
        "    :param B: число бутстрепных оценок\n",
        "    :return: возвращает массив длины B c бутстрепными оценками\n",
        "    '''\n",
        "\n",
        "    n = len(sample.dropna())  # длина выборки\n",
        "    bootstrap_estimations = np.zeros(B)\n",
        "    for i in range(B):\n",
        "      s = np.random.choice(sample, size=n, replace=True)# бутстрепная выборка\n",
        "      bootstrap_estimations[i] = estimator(s)\n",
        "    return bootstrap_estimations\n"
      ]
    },
    {
      "cell_type": "markdown",
      "metadata": {
        "id": "P4_Url8o13vB"
      },
      "source": [
        "**4.** Реализуйте три типа бутстрепных доверительных интервалы в виде функций, принимающих на вход выборку оценок, полученных с помощью бутстрепа. Реализовывать вычисление бутстрепных интервалов для подвыборок размера от 1 до n не нужно, только для всей выборки. "
      ]
    },
    {
      "cell_type": "code",
      "execution_count": null,
      "metadata": {
        "id": "HOjy_hpl13vB"
      },
      "outputs": [],
      "source": [
        "def boostrap_normal_confidence_interval(bootstrap_estimations, alpha=0.95):\n",
        "    v_boot = np.var(bootstrap_estimations, ddof=1) \n",
        "    z = sps.norm.ppf(((1+ alpha)/2))\n",
        "    mean = np.mean(bootstrap_estimations)\n",
        "    left = mean - z * np.sqrt(v_boot)\n",
        "    right = mean + z * np.sqrt(v_boot)\n",
        "    return (left, right)\n",
        "    \n",
        "def boostrap_central_confidence_interval(bootstrap_estimations, alpha=0.95):\n",
        "    mean = np.mean(bootstrap_estimations)\n",
        "    B_l = int(np.ceil((1 + alpha) / 2 * len(bootstrap_estimations)))\n",
        "    B_r = int(np.floor((1 - alpha) / 2 * len(bootstrap_estimations)))\n",
        "    sorted_estimations = np.sort(bootstrap_estimations)\n",
        "    theta_hat = np.mean(sorted_estimations)\n",
        "    theta_star_l = sorted_estimations[B_l]\n",
        "    theta_star_r = sorted_estimations[B_r]\n",
        "    return (2 * theta_hat - theta_star_l, 2 * theta_hat - theta_star_r)\n",
        "    \n",
        "def boostrap_quantile_confidence_interval(bootstrap_estimations, alpha=0.95):\n",
        "    B_r = int(np.ceil((1 + alpha) / 2 * len(bootstrap_estimations)))\n",
        "    B_l = int(np.floor((1 - alpha) / 2 * len(bootstrap_estimations)))\n",
        "    sorted_estimations = np.sort(bootstrap_estimations)\n",
        "    theta_star_r = sorted_estimations[B_r]\n",
        "    theta_star_l = sorted_estimations[B_l]\n",
        "    return (theta_star_l, theta_star_r)"
      ]
    },
    {
      "cell_type": "markdown",
      "metadata": {
        "id": "J7lG1Hn513vB"
      },
      "source": [
        "**5.** Для каждого признака постройте бутстрепные доверительные интервалы для $\\theta = \\mathsf{E} X_1$ и сравните их."
      ]
    },
    {
      "cell_type": "markdown",
      "metadata": {
        "id": "t1oMyRanyFez"
      },
      "source": [
        "Построим для белка ITSN1_N"
      ]
    },
    {
      "cell_type": "code",
      "execution_count": null,
      "metadata": {
        "colab": {
          "base_uri": "https://localhost:8080/"
        },
        "id": "YnaHjjqu13vB",
        "outputId": "4908d740-9751-455d-ecbe-9068b99a7250"
      },
      "outputs": [
        {
          "data": {
            "text/plain": [
              "((0.6021012702357139, 0.632141149334711),\n",
              " (0.6016907693178716, 0.6317909387384844),\n",
              " (0.6024514808319406, 0.6325516502525533))"
            ]
          },
          "execution_count": 39,
          "metadata": {},
          "output_type": "execute_result"
        }
      ],
      "source": [
        "\n",
        "estimations = bootstrap(data['ITSN1_N'].dropna(), B=100_000)\n",
        "normal_interval = boostrap_normal_confidence_interval(estimations)\n",
        "central_interval = boostrap_central_confidence_interval(estimations)\n",
        "quantile_interval = boostrap_quantile_confidence_interval(estimations)\n",
        "normal_interval, central_interval, quantile_interval"
      ]
    },
    {
      "cell_type": "markdown",
      "metadata": {
        "id": "RaaVpwZGyTbr"
      },
      "source": [
        "Построим для белка DYRK1A_N"
      ]
    },
    {
      "cell_type": "code",
      "execution_count": null,
      "metadata": {
        "colab": {
          "base_uri": "https://localhost:8080/"
        },
        "id": "C72xJY1SyfNY",
        "outputId": "b0e5dc35-bbf0-4e91-b8ec-8e52d58a47be"
      },
      "outputs": [
        {
          "data": {
            "text/plain": [
              "((0.41091697045860925, 0.440609270210963),\n",
              " (0.4104688818562018, 0.440072127167251),\n",
              " (0.41145411350232125, 0.4410573588133705))"
            ]
          },
          "execution_count": 27,
          "metadata": {},
          "output_type": "execute_result"
        }
      ],
      "source": [
        "estimations = bootstrap(data['DYRK1A_N'].dropna(), B=100_000)\n",
        "normal_interval = boostrap_normal_confidence_interval(estimations)\n",
        "central_interval = boostrap_central_confidence_interval(estimations)\n",
        "quantile_interval = boostrap_quantile_confidence_interval(estimations)\n",
        "normal_interval, central_interval, quantile_interval\n",
        "\n"
      ]
    },
    {
      "cell_type": "markdown",
      "metadata": {
        "id": "sf1DmQrXyoh6"
      },
      "source": [
        "Построим для белка 'ELK_N'"
      ]
    },
    {
      "cell_type": "code",
      "execution_count": null,
      "metadata": {
        "colab": {
          "base_uri": "https://localhost:8080/"
        },
        "id": "hSp0umk5ysn5",
        "outputId": "723d48ba-8555-4ffb-9508-9d6964c06b49"
      },
      "outputs": [
        {
          "data": {
            "text/plain": [
              "((1.1532279922318087, 1.193597761671635),\n",
              " (1.1530552799448748, 1.1934294322358352),\n",
              " (1.1533963216676084, 1.1937704739585688))"
            ]
          },
          "execution_count": 28,
          "metadata": {},
          "output_type": "execute_result"
        }
      ],
      "source": [
        "estimations = bootstrap(data['ELK_N'].dropna(), B=100_000)\n",
        "normal_interval = boostrap_normal_confidence_interval(estimations)\n",
        "central_interval = boostrap_central_confidence_interval(estimations)\n",
        "quantile_interval = boostrap_quantile_confidence_interval(estimations)\n",
        "normal_interval, central_interval, quantile_interval\n",
        "\n"
      ]
    }
  ],
  "metadata": {
    "colab": {
      "provenance": []
    },
    "kernelspec": {
      "display_name": "Python 3",
      "language": "python",
      "name": "python3"
    },
    "language_info": {
      "codemirror_mode": {
        "name": "ipython",
        "version": 3
      },
      "file_extension": ".py",
      "mimetype": "text/x-python",
      "name": "python",
      "nbconvert_exporter": "python",
      "pygments_lexer": "ipython3",
      "version": "3.8.10"
    },
    "vscode": {
      "interpreter": {
        "hash": "31f2aee4e71d21fbe5cf8b01ff0e069b9275f58929596ceb00d14d90e3e16cd6"
      }
    }
  },
  "nbformat": 4,
  "nbformat_minor": 0
}
